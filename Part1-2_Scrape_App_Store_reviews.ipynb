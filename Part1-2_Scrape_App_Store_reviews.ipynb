{
 "cells": [
  {
   "cell_type": "markdown",
   "id": "liked-germany",
   "metadata": {},
   "source": [
    "# Part I.II - Obtain App Store Reviews"
   ]
  },
  {
   "cell_type": "code",
   "execution_count": 92,
   "id": "medium-purple",
   "metadata": {
    "ExecuteTime": {
     "end_time": "2021-03-15T22:40:56.506965Z",
     "start_time": "2021-03-15T22:40:56.502890Z"
    }
   },
   "outputs": [],
   "source": [
    "## Import necessary libraries\n",
    "\n",
    "# retrieves app info from App Store\n",
    "from itunes_app_scraper.scraper import AppStoreScraper\n",
    "# retrieves reviews from App Store\n",
    "from app_store_scraper import AppStore\n",
    "\n",
    "# retrieves app info AND reviews from Google Play\n",
    "from google_play_scraper import app, Sort, reviews, reviews_all\n",
    "\n",
    "# pretty print data structures\n",
    "from pprint import pprint\n",
    "\n",
    "# for storing in MongoDB\n",
    "from pymongo import MongoClient\n",
    "\n",
    "import datetime as dt\n",
    "from tzlocal import get_localzone\n",
    "\n",
    "import random\n",
    "import time\n",
    "\n",
    "import pandas as pd\n",
    "import numpy as np"
   ]
  },
  {
   "cell_type": "code",
   "execution_count": 93,
   "id": "norman-approval",
   "metadata": {
    "ExecuteTime": {
     "end_time": "2021-03-15T22:40:56.905278Z",
     "start_time": "2021-03-15T22:40:56.862376Z"
    }
   },
   "outputs": [
    {
     "data": {
      "text/html": [
       "<div>\n",
       "<style scoped>\n",
       "    .dataframe tbody tr th:only-of-type {\n",
       "        vertical-align: middle;\n",
       "    }\n",
       "\n",
       "    .dataframe tbody tr th {\n",
       "        vertical-align: top;\n",
       "    }\n",
       "\n",
       "    .dataframe thead th {\n",
       "        text-align: right;\n",
       "    }\n",
       "</style>\n",
       "<table border=\"1\" class=\"dataframe\">\n",
       "  <thead>\n",
       "    <tr style=\"text-align: right;\">\n",
       "      <th></th>\n",
       "      <th>app_name</th>\n",
       "      <th>iOS</th>\n",
       "      <th>iOS_revs</th>\n",
       "      <th>iOS_app_name</th>\n",
       "      <th>iOS_app_id</th>\n",
       "      <th>android</th>\n",
       "      <th>android_revs</th>\n",
       "      <th>android_appID</th>\n",
       "    </tr>\n",
       "  </thead>\n",
       "  <tbody>\n",
       "    <tr>\n",
       "      <th>0</th>\n",
       "      <td>Aloe Bud</td>\n",
       "      <td>1</td>\n",
       "      <td>3000</td>\n",
       "      <td>aloe-bud</td>\n",
       "      <td>1318382054</td>\n",
       "      <td>0</td>\n",
       "      <td>0</td>\n",
       "      <td>NaN</td>\n",
       "    </tr>\n",
       "    <tr>\n",
       "      <th>1</th>\n",
       "      <td>Aura</td>\n",
       "      <td>1</td>\n",
       "      <td>22100</td>\n",
       "      <td>aura-meditation-sleep</td>\n",
       "      <td>1114223104</td>\n",
       "      <td>1</td>\n",
       "      <td>10400</td>\n",
       "      <td>com.aurahealth</td>\n",
       "    </tr>\n",
       "    <tr>\n",
       "      <th>2</th>\n",
       "      <td>BetterHelp</td>\n",
       "      <td>1</td>\n",
       "      <td>32400</td>\n",
       "      <td>betterhelp-online-counseling</td>\n",
       "      <td>995252384</td>\n",
       "      <td>1</td>\n",
       "      <td>15300</td>\n",
       "      <td>com.betterhelp</td>\n",
       "    </tr>\n",
       "    <tr>\n",
       "      <th>3</th>\n",
       "      <td>Breathe2Relax</td>\n",
       "      <td>1</td>\n",
       "      <td>200</td>\n",
       "      <td>breathe2relax</td>\n",
       "      <td>425720246</td>\n",
       "      <td>1</td>\n",
       "      <td>1100</td>\n",
       "      <td>org.t2health.breathe2relax</td>\n",
       "    </tr>\n",
       "    <tr>\n",
       "      <th>4</th>\n",
       "      <td>Calm</td>\n",
       "      <td>1</td>\n",
       "      <td>1200000</td>\n",
       "      <td>calm</td>\n",
       "      <td>571800810</td>\n",
       "      <td>1</td>\n",
       "      <td>352500</td>\n",
       "      <td>com.calm.android</td>\n",
       "    </tr>\n",
       "  </tbody>\n",
       "</table>\n",
       "</div>"
      ],
      "text/plain": [
       "        app_name  iOS  iOS_revs                  iOS_app_name  iOS_app_id  \\\n",
       "0       Aloe Bud    1      3000                      aloe-bud  1318382054   \n",
       "1           Aura    1     22100         aura-meditation-sleep  1114223104   \n",
       "2     BetterHelp    1     32400  betterhelp-online-counseling   995252384   \n",
       "3  Breathe2Relax    1       200                 breathe2relax   425720246   \n",
       "4           Calm    1   1200000                          calm   571800810   \n",
       "\n",
       "   android  android_revs               android_appID  \n",
       "0        0             0                         NaN  \n",
       "1        1         10400              com.aurahealth  \n",
       "2        1         15300              com.betterhelp  \n",
       "3        1          1100  org.t2health.breathe2relax  \n",
       "4        1        352500            com.calm.android  "
      ]
     },
     "execution_count": 93,
     "metadata": {},
     "output_type": "execute_result"
    }
   ],
   "source": [
    "## Read in file containing app details, \n",
    "  ## need the app IDs for scraping stores\n",
    "app_df = pd.read_csv('Data/mha_app_info.csv')\n",
    "app_df.head()"
   ]
  },
  {
   "cell_type": "code",
   "execution_count": 94,
   "id": "freelance-corps",
   "metadata": {
    "ExecuteTime": {
     "end_time": "2021-03-15T22:41:00.451647Z",
     "start_time": "2021-03-15T22:41:00.440333Z"
    }
   },
   "outputs": [],
   "source": [
    "## Store list of app ids and app names to loop through for App Store\n",
    "app_store_ids = list(app_df['iOS_app_id'])\n",
    "app_store_names = list(app_df['iOS_app_name'])"
   ]
  },
  {
   "cell_type": "code",
   "execution_count": 95,
   "id": "naughty-tulsa",
   "metadata": {
    "ExecuteTime": {
     "end_time": "2021-03-15T22:41:07.962726Z",
     "start_time": "2021-03-15T22:41:07.956807Z"
    }
   },
   "outputs": [
    {
     "data": {
      "text/plain": [
       "56"
      ]
     },
     "execution_count": 95,
     "metadata": {},
     "output_type": "execute_result"
    }
   ],
   "source": [
    "## Check number of apps found in App Store\n",
    "len(app_store_ids)"
   ]
  },
  {
   "cell_type": "markdown",
   "id": "official-server",
   "metadata": {},
   "source": [
    "## Set Up MongoDB"
   ]
  },
  {
   "cell_type": "code",
   "execution_count": null,
   "id": "national-accountability",
   "metadata": {},
   "outputs": [],
   "source": [
    "## Set up Mongo client\n",
    "client = MongoClient(host='localhost', port=27017)"
   ]
  },
  {
   "cell_type": "code",
   "execution_count": null,
   "id": "eleven-burning",
   "metadata": {},
   "outputs": [],
   "source": [
    "## Database for project\n",
    "mha_proj_db = client['mha_proj_db']"
   ]
  },
  {
   "cell_type": "code",
   "execution_count": 59,
   "id": "spare-killer",
   "metadata": {
    "ExecuteTime": {
     "end_time": "2021-03-15T18:08:00.534858Z",
     "start_time": "2021-03-15T18:08:00.531041Z"
    }
   },
   "outputs": [],
   "source": [
    "## Set up new collection within project db\n",
    "app_store_rvws = mha_proj_db['app_store_rvws']"
   ]
  },
  {
   "cell_type": "markdown",
   "id": "naval-report",
   "metadata": {},
   "source": [
    "## Scrape Reviews for Each App\n",
    "### Scrape Reviews from App Store"
   ]
  },
  {
   "cell_type": "code",
   "execution_count": 63,
   "id": "liable-somalia",
   "metadata": {
    "ExecuteTime": {
     "end_time": "2021-03-15T18:39:15.053431Z",
     "start_time": "2021-03-15T18:39:15.049439Z"
    }
   },
   "outputs": [],
   "source": [
    "as_test_collection = mha_proj_db['as_test_collection']"
   ]
  },
  {
   "cell_type": "code",
   "execution_count": 74,
   "id": "extensive-drilling",
   "metadata": {
    "ExecuteTime": {
     "end_time": "2021-03-15T18:47:55.964696Z",
     "start_time": "2021-03-15T18:47:55.960529Z"
    }
   },
   "outputs": [],
   "source": [
    "last_2_info = [('wysa-mental-health-support', 1166585565),\n",
    "                ('youper', 1060691513)]"
   ]
  },
  {
   "cell_type": "code",
   "execution_count": 1,
   "id": "distributed-piece",
   "metadata": {
    "ExecuteTime": {
     "end_time": "2021-03-16T22:27:48.735454Z",
     "start_time": "2021-03-16T22:27:48.582178Z"
    }
   },
   "outputs": [
    {
     "ename": "NameError",
     "evalue": "name 'client' is not defined",
     "output_type": "error",
     "traceback": [
      "\u001b[0;31m---------------------------------------------------------------------------\u001b[0m",
      "\u001b[0;31mNameError\u001b[0m                                 Traceback (most recent call last)",
      "\u001b[0;32m<ipython-input-1-1ef8b845d8fa>\u001b[0m in \u001b[0;36m<module>\u001b[0;34m\u001b[0m\n\u001b[0;32m----> 1\u001b[0;31m \u001b[0mclient\u001b[0m\u001b[0;34m.\u001b[0m\u001b[0mclose\u001b[0m\u001b[0;34m(\u001b[0m\u001b[0;34m)\u001b[0m\u001b[0;34m\u001b[0m\u001b[0;34m\u001b[0m\u001b[0m\n\u001b[0m",
      "\u001b[0;31mNameError\u001b[0m: name 'client' is not defined"
     ]
    }
   ],
   "source": [
    "client.close()"
   ]
  },
  {
   "cell_type": "code",
   "execution_count": null,
   "id": "detected-store",
   "metadata": {
    "ExecuteTime": {
     "start_time": "2021-03-16T14:53:35.945Z"
    }
   },
   "outputs": [
    {
     "name": "stdout",
     "output_type": "stream",
     "text": [
      "------------------------------------------------------------\n",
      "***** aloe-bud started at 03/16/21 - 10:53:36 AM\n",
      "\n"
     ]
    },
    {
     "name": "stderr",
     "output_type": "stream",
     "text": [
      "2021-03-16 10:53:37,627 [INFO] Base - Initialised: AppStore('us', 'aloe-bud', 1318382054)\n",
      "2021-03-16 10:53:37,630 [INFO] Base - Ready to fetch reviews from: https://apps.apple.com/us/app/aloe-bud/id1318382054\n",
      "2021-03-16 10:56:34,804 [INFO] Base - [id:1318382054] Fetched 20 reviews (20 fetched in total)\n",
      "2021-03-16 11:02:29,335 [INFO] Base - [id:1318382054] Fetched 60 reviews (60 fetched in total)\n",
      "2021-03-16 11:08:23,852 [INFO] Base - [id:1318382054] Fetched 66 reviews (66 fetched in total)\n",
      "2021-03-16 11:14:18,296 [INFO] Base - [id:1318382054] Fetched 68 reviews (68 fetched in total)\n",
      "2021-03-16 11:20:13,110 [INFO] Base - [id:1318382054] Fetched 69 reviews (69 fetched in total)\n",
      "2021-03-16 11:23:10,594 [INFO] Base - [id:1318382054] Fetched 73 reviews (73 fetched in total)\n"
     ]
    },
    {
     "name": "stdout",
     "output_type": "stream",
     "text": [
      "Done scraping aloe-bud. Scraped a total of 73 reviews.\n",
      "\n",
      "Successfully inserted aloe-bud reviews into collection at 03/16/21 - 11:23:10 AM.\n",
      "\n",
      "Time elapsed for aloe-bud: 0:29:34.627027\n",
      "------------------------------------------------------------\n",
      "\n",
      "\n",
      "------------------------------------------------------------\n",
      "***** aura-meditation-sleep started at 03/16/21 - 11:24:40 AM\n",
      "\n"
     ]
    },
    {
     "name": "stderr",
     "output_type": "stream",
     "text": [
      "2021-03-16 11:24:41,729 [INFO] Base - Initialised: AppStore('us', 'aura-meditation-sleep', 1114223104)\n",
      "2021-03-16 11:24:41,730 [INFO] Base - Ready to fetch reviews from: https://apps.apple.com/us/app/aura-meditation-sleep/id1114223104\n",
      "2021-03-16 11:26:49,935 [INFO] Base - [id:1114223104] Fetched 5 reviews (5 fetched in total)\n",
      "2021-03-16 11:31:06,444 [INFO] Base - [id:1114223104] Fetched 18 reviews (18 fetched in total)\n",
      "2021-03-16 11:35:22,837 [INFO] Base - [id:1114223104] Fetched 30 reviews (30 fetched in total)\n",
      "2021-03-16 11:39:39,255 [INFO] Base - [id:1114223104] Fetched 40 reviews (40 fetched in total)\n",
      "2021-03-16 11:43:55,737 [INFO] Base - [id:1114223104] Fetched 46 reviews (46 fetched in total)\n",
      "2021-03-16 11:48:12,137 [INFO] Base - [id:1114223104] Fetched 51 reviews (51 fetched in total)\n",
      "2021-03-16 11:52:28,546 [INFO] Base - [id:1114223104] Fetched 66 reviews (66 fetched in total)\n",
      "2021-03-16 11:56:45,079 [INFO] Base - [id:1114223104] Fetched 77 reviews (77 fetched in total)\n",
      "2021-03-16 12:01:01,588 [INFO] Base - [id:1114223104] Fetched 89 reviews (89 fetched in total)\n",
      "2021-03-16 12:05:18,329 [INFO] Base - [id:1114223104] Fetched 99 reviews (99 fetched in total)\n",
      "2021-03-16 12:09:34,744 [INFO] Base - [id:1114223104] Fetched 106 reviews (106 fetched in total)\n",
      "2021-03-16 12:13:51,185 [INFO] Base - [id:1114223104] Fetched 116 reviews (116 fetched in total)\n",
      "2021-03-16 12:18:07,629 [INFO] Base - [id:1114223104] Fetched 123 reviews (123 fetched in total)\n",
      "2021-03-16 12:22:24,022 [INFO] Base - [id:1114223104] Fetched 130 reviews (130 fetched in total)\n"
     ]
    }
   ],
   "source": [
    "## Set up loop to go through each app in the App Store\n",
    "for app_name, app_id in last_2_info:\n",
    "    \n",
    "    start = dt.datetime.now(tz=get_localzone())\n",
    "    fmt= \"%m/%d/%y - %T %p\"\n",
    "    \n",
    "    print('---'*20)\n",
    "    print('---'*20)    \n",
    "    print(f'***** {app_name} started at {start.strftime(fmt)}')\n",
    "    print()\n",
    "    \n",
    "    app_ = AppStore(country='us', app_name=app_name, app_id=app_id)\n",
    "    \n",
    "    # grab reviews posted since February 28, 2020 and limit to 10,000 reviews\n",
    "    app_.review(how_many=10000,\n",
    "                after=dt.datetime(2020, 2, 28),\n",
    "                sleep=random.randint(90,180))\n",
    "    \n",
    "    reviews = app_.reviews\n",
    "    \n",
    "    # add keys to store information about which app each review is for\n",
    "    for rvw in reviews:\n",
    "        rvw['app_name'] = app_name\n",
    "        rvw['app_id'] = app_id\n",
    "    \n",
    "    \n",
    "    print(f'Done scraping {app_name}. Scraped a total of {app_.reviews_count} reviews.\\n')\n",
    "    \n",
    "    # insert reviews into collection\n",
    "    as_test_collection.insert_many(reviews)\n",
    "    \n",
    "    end = dt.datetime.now(tz=get_localzone())\n",
    "    \n",
    "    print(f'Successfully inserted {app_name} reviews into collection at {end.strftime(fmt)}.\\n')\n",
    "    print(f'Time elapsed for {app_name}: {end-start}')\n",
    "    print('---'*20)\n",
    "    print('---'*20)\n",
    "    print('\\n')\n",
    "    \n",
    "    time.sleep(random.randint(10,20))"
   ]
  },
  {
   "cell_type": "code",
   "execution_count": 83,
   "id": "hungarian-conversion",
   "metadata": {
    "ExecuteTime": {
     "end_time": "2021-03-15T19:07:04.328853Z",
     "start_time": "2021-03-15T19:07:04.291486Z"
    }
   },
   "outputs": [
    {
     "data": {
      "text/html": [
       "<div>\n",
       "<style scoped>\n",
       "    .dataframe tbody tr th:only-of-type {\n",
       "        vertical-align: middle;\n",
       "    }\n",
       "\n",
       "    .dataframe tbody tr th {\n",
       "        vertical-align: top;\n",
       "    }\n",
       "\n",
       "    .dataframe thead th {\n",
       "        text-align: right;\n",
       "    }\n",
       "</style>\n",
       "<table border=\"1\" class=\"dataframe\">\n",
       "  <thead>\n",
       "    <tr style=\"text-align: right;\">\n",
       "      <th></th>\n",
       "      <th>_id</th>\n",
       "      <th>rating</th>\n",
       "      <th>userName</th>\n",
       "      <th>date</th>\n",
       "      <th>review</th>\n",
       "      <th>title</th>\n",
       "      <th>isEdited</th>\n",
       "      <th>app_name</th>\n",
       "      <th>app_id</th>\n",
       "      <th>developerResponse</th>\n",
       "    </tr>\n",
       "  </thead>\n",
       "  <tbody>\n",
       "    <tr>\n",
       "      <th>0</th>\n",
       "      <td>604fad1bbd1e5fa3b28306ab</td>\n",
       "      <td>5</td>\n",
       "      <td>knsky8</td>\n",
       "      <td>2020-10-09 12:19:21</td>\n",
       "      <td>I really am enjoying this app and once I start...</td>\n",
       "      <td>Simple gentle ways to a better you</td>\n",
       "      <td>False</td>\n",
       "      <td>aloe-bud</td>\n",
       "      <td>1318382054</td>\n",
       "      <td>NaN</td>\n",
       "    </tr>\n",
       "    <tr>\n",
       "      <th>1</th>\n",
       "      <td>604fad1bbd1e5fa3b28306ac</td>\n",
       "      <td>5</td>\n",
       "      <td>Candycrushgirl60</td>\n",
       "      <td>2021-03-01 03:51:42</td>\n",
       "      <td>I have tried a lot of apps that said they woul...</td>\n",
       "      <td>This app changed my life!</td>\n",
       "      <td>False</td>\n",
       "      <td>aloe-bud</td>\n",
       "      <td>1318382054</td>\n",
       "      <td>NaN</td>\n",
       "    </tr>\n",
       "    <tr>\n",
       "      <th>2</th>\n",
       "      <td>604fad1bbd1e5fa3b28306ad</td>\n",
       "      <td>5</td>\n",
       "      <td>hhhhhjghjhhnjgh</td>\n",
       "      <td>2021-03-13 01:16:42</td>\n",
       "      <td>IT JUST CAN'T GET MUCH BETTER! it really helps...</td>\n",
       "      <td>Love this app! - MOST READ</td>\n",
       "      <td>False</td>\n",
       "      <td>aloe-bud</td>\n",
       "      <td>1318382054</td>\n",
       "      <td>NaN</td>\n",
       "    </tr>\n",
       "    <tr>\n",
       "      <th>3</th>\n",
       "      <td>604fad1bbd1e5fa3b28306ae</td>\n",
       "      <td>5</td>\n",
       "      <td>ekg2005</td>\n",
       "      <td>2020-06-29 12:20:49</td>\n",
       "      <td>I don’t usually write reviews for apps, but I ...</td>\n",
       "      <td>Such a cute, helpful app!</td>\n",
       "      <td>False</td>\n",
       "      <td>aloe-bud</td>\n",
       "      <td>1318382054</td>\n",
       "      <td>NaN</td>\n",
       "    </tr>\n",
       "    <tr>\n",
       "      <th>4</th>\n",
       "      <td>604fad1bbd1e5fa3b28306af</td>\n",
       "      <td>5</td>\n",
       "      <td>Shoshana Lipson</td>\n",
       "      <td>2020-06-26 21:38:49</td>\n",
       "      <td>Where to begin before I started using aloe bud...</td>\n",
       "      <td>So Amazing!!</td>\n",
       "      <td>False</td>\n",
       "      <td>aloe-bud</td>\n",
       "      <td>1318382054</td>\n",
       "      <td>NaN</td>\n",
       "    </tr>\n",
       "    <tr>\n",
       "      <th>...</th>\n",
       "      <td>...</td>\n",
       "      <td>...</td>\n",
       "      <td>...</td>\n",
       "      <td>...</td>\n",
       "      <td>...</td>\n",
       "      <td>...</td>\n",
       "      <td>...</td>\n",
       "      <td>...</td>\n",
       "      <td>...</td>\n",
       "      <td>...</td>\n",
       "    </tr>\n",
       "    <tr>\n",
       "      <th>776</th>\n",
       "      <td>604faff1bd1e5fa3b28309b3</td>\n",
       "      <td>5</td>\n",
       "      <td>FirePheniex</td>\n",
       "      <td>2020-03-13 03:37:17</td>\n",
       "      <td>One of the better meditation apps I have seen....</td>\n",
       "      <td>Really good</td>\n",
       "      <td>False</td>\n",
       "      <td>aura-meditation-sleep</td>\n",
       "      <td>1114223104</td>\n",
       "      <td>NaN</td>\n",
       "    </tr>\n",
       "    <tr>\n",
       "      <th>777</th>\n",
       "      <td>604faff1bd1e5fa3b28309b4</td>\n",
       "      <td>5</td>\n",
       "      <td>NurseEstes</td>\n",
       "      <td>2020-11-30 16:24:27</td>\n",
       "      <td>I just downloaded the app yesterday and while ...</td>\n",
       "      <td>Just started...</td>\n",
       "      <td>False</td>\n",
       "      <td>aura-meditation-sleep</td>\n",
       "      <td>1114223104</td>\n",
       "      <td>{'id': 19629453, 'body': 'That's awesome, Nurs...</td>\n",
       "    </tr>\n",
       "    <tr>\n",
       "      <th>778</th>\n",
       "      <td>604faff1bd1e5fa3b28309b5</td>\n",
       "      <td>5</td>\n",
       "      <td>smerk1303</td>\n",
       "      <td>2020-07-02 06:09:23</td>\n",
       "      <td>I just started using this app and reached leve...</td>\n",
       "      <td>I just started but it’s great so far</td>\n",
       "      <td>False</td>\n",
       "      <td>aura-meditation-sleep</td>\n",
       "      <td>1114223104</td>\n",
       "      <td>NaN</td>\n",
       "    </tr>\n",
       "    <tr>\n",
       "      <th>779</th>\n",
       "      <td>604faff1bd1e5fa3b28309b6</td>\n",
       "      <td>5</td>\n",
       "      <td>Kirsys A</td>\n",
       "      <td>2020-11-03 04:27:54</td>\n",
       "      <td>Every night I look forward to my \"message\" of ...</td>\n",
       "      <td>Love this app!!!</td>\n",
       "      <td>False</td>\n",
       "      <td>aura-meditation-sleep</td>\n",
       "      <td>1114223104</td>\n",
       "      <td>{'id': 18929873, 'body': 'Hi! We are pleased t...</td>\n",
       "    </tr>\n",
       "    <tr>\n",
       "      <th>780</th>\n",
       "      <td>604faff1bd1e5fa3b28309b7</td>\n",
       "      <td>1</td>\n",
       "      <td>luciana cortese</td>\n",
       "      <td>2020-04-18 20:42:37</td>\n",
       "      <td>This app makes you pay for everything! You can...</td>\n",
       "      <td>Awful app, DO NOT GET!</td>\n",
       "      <td>False</td>\n",
       "      <td>aura-meditation-sleep</td>\n",
       "      <td>1114223104</td>\n",
       "      <td>{'id': 14875076, 'body': 'Hi Luciana! Thank yo...</td>\n",
       "    </tr>\n",
       "  </tbody>\n",
       "</table>\n",
       "<p>781 rows × 10 columns</p>\n",
       "</div>"
      ],
      "text/plain": [
       "                          _id  rating          userName                date  \\\n",
       "0    604fad1bbd1e5fa3b28306ab       5            knsky8 2020-10-09 12:19:21   \n",
       "1    604fad1bbd1e5fa3b28306ac       5  Candycrushgirl60 2021-03-01 03:51:42   \n",
       "2    604fad1bbd1e5fa3b28306ad       5   hhhhhjghjhhnjgh 2021-03-13 01:16:42   \n",
       "3    604fad1bbd1e5fa3b28306ae       5           ekg2005 2020-06-29 12:20:49   \n",
       "4    604fad1bbd1e5fa3b28306af       5   Shoshana Lipson 2020-06-26 21:38:49   \n",
       "..                        ...     ...               ...                 ...   \n",
       "776  604faff1bd1e5fa3b28309b3       5       FirePheniex 2020-03-13 03:37:17   \n",
       "777  604faff1bd1e5fa3b28309b4       5        NurseEstes 2020-11-30 16:24:27   \n",
       "778  604faff1bd1e5fa3b28309b5       5         smerk1303 2020-07-02 06:09:23   \n",
       "779  604faff1bd1e5fa3b28309b6       5          Kirsys A 2020-11-03 04:27:54   \n",
       "780  604faff1bd1e5fa3b28309b7       1   luciana cortese 2020-04-18 20:42:37   \n",
       "\n",
       "                                                review  \\\n",
       "0    I really am enjoying this app and once I start...   \n",
       "1    I have tried a lot of apps that said they woul...   \n",
       "2    IT JUST CAN'T GET MUCH BETTER! it really helps...   \n",
       "3    I don’t usually write reviews for apps, but I ...   \n",
       "4    Where to begin before I started using aloe bud...   \n",
       "..                                                 ...   \n",
       "776  One of the better meditation apps I have seen....   \n",
       "777  I just downloaded the app yesterday and while ...   \n",
       "778  I just started using this app and reached leve...   \n",
       "779  Every night I look forward to my \"message\" of ...   \n",
       "780  This app makes you pay for everything! You can...   \n",
       "\n",
       "                                    title  isEdited               app_name  \\\n",
       "0      Simple gentle ways to a better you     False               aloe-bud   \n",
       "1               This app changed my life!     False               aloe-bud   \n",
       "2              Love this app! - MOST READ     False               aloe-bud   \n",
       "3               Such a cute, helpful app!     False               aloe-bud   \n",
       "4                            So Amazing!!     False               aloe-bud   \n",
       "..                                    ...       ...                    ...   \n",
       "776                           Really good     False  aura-meditation-sleep   \n",
       "777                       Just started...     False  aura-meditation-sleep   \n",
       "778  I just started but it’s great so far     False  aura-meditation-sleep   \n",
       "779                      Love this app!!!     False  aura-meditation-sleep   \n",
       "780                Awful app, DO NOT GET!     False  aura-meditation-sleep   \n",
       "\n",
       "         app_id                                  developerResponse  \n",
       "0    1318382054                                                NaN  \n",
       "1    1318382054                                                NaN  \n",
       "2    1318382054                                                NaN  \n",
       "3    1318382054                                                NaN  \n",
       "4    1318382054                                                NaN  \n",
       "..          ...                                                ...  \n",
       "776  1114223104                                                NaN  \n",
       "777  1114223104  {'id': 19629453, 'body': 'That's awesome, Nurs...  \n",
       "778  1114223104                                                NaN  \n",
       "779  1114223104  {'id': 18929873, 'body': 'Hi! We are pleased t...  \n",
       "780  1114223104  {'id': 14875076, 'body': 'Hi Luciana! Thank yo...  \n",
       "\n",
       "[781 rows x 10 columns]"
      ]
     },
     "execution_count": 83,
     "metadata": {},
     "output_type": "execute_result"
    }
   ],
   "source": [
    "test_df = pd.DataFrame(list(test_collection.find({})))\n",
    "test_df"
   ]
  }
 ],
 "metadata": {
  "kernelspec": {
   "display_name": "mha_proj_env",
   "language": "python",
   "name": "mha_proj_env"
  },
  "language_info": {
   "codemirror_mode": {
    "name": "ipython",
    "version": 3
   },
   "file_extension": ".py",
   "mimetype": "text/x-python",
   "name": "python",
   "nbconvert_exporter": "python",
   "pygments_lexer": "ipython3",
   "version": "3.7.9"
  },
  "toc": {
   "base_numbering": 1,
   "nav_menu": {},
   "number_sections": true,
   "sideBar": true,
   "skip_h1_title": false,
   "title_cell": "Table of Contents",
   "title_sidebar": "Contents",
   "toc_cell": false,
   "toc_position": {},
   "toc_section_display": true,
   "toc_window_display": true
  }
 },
 "nbformat": 4,
 "nbformat_minor": 5
}
