{
 "cells": [
  {
   "cell_type": "markdown",
   "id": "liked-germany",
   "metadata": {},
   "source": [
    "# Part I.II - Obtain App Store Reviews"
   ]
  },
  {
   "cell_type": "code",
   "execution_count": 2,
   "id": "medium-purple",
   "metadata": {
    "ExecuteTime": {
     "end_time": "2021-03-17T11:23:04.503903Z",
     "start_time": "2021-03-17T11:23:03.531297Z"
    }
   },
   "outputs": [],
   "source": [
    "## Import necessary libraries\n",
    "\n",
    "# retrieves app info from App Store\n",
    "from itunes_app_scraper.scraper import AppStoreScraper\n",
    "# retrieves reviews from App Store\n",
    "from app_store_scraper import AppStore\n",
    "\n",
    "# retrieves app info AND reviews from Google Play\n",
    "from google_play_scraper import app, Sort, reviews, reviews_all\n",
    "\n",
    "# pretty print data structures\n",
    "from pprint import pprint\n",
    "\n",
    "# for storing in MongoDB\n",
    "import pymongo\n",
    "from pymongo import MongoClient\n",
    "\n",
    "import datetime as dt\n",
    "from tzlocal import get_localzone\n",
    "\n",
    "import random\n",
    "import time\n",
    "\n",
    "import pandas as pd\n",
    "import numpy as np"
   ]
  },
  {
   "cell_type": "code",
   "execution_count": 3,
   "id": "norman-approval",
   "metadata": {
    "ExecuteTime": {
     "end_time": "2021-03-17T11:23:04.529972Z",
     "start_time": "2021-03-17T11:23:04.506479Z"
    }
   },
   "outputs": [
    {
     "data": {
      "text/html": [
       "<div>\n",
       "<style scoped>\n",
       "    .dataframe tbody tr th:only-of-type {\n",
       "        vertical-align: middle;\n",
       "    }\n",
       "\n",
       "    .dataframe tbody tr th {\n",
       "        vertical-align: top;\n",
       "    }\n",
       "\n",
       "    .dataframe thead th {\n",
       "        text-align: right;\n",
       "    }\n",
       "</style>\n",
       "<table border=\"1\" class=\"dataframe\">\n",
       "  <thead>\n",
       "    <tr style=\"text-align: right;\">\n",
       "      <th></th>\n",
       "      <th>app_name</th>\n",
       "      <th>iOS</th>\n",
       "      <th>iOS_revs</th>\n",
       "      <th>iOS_app_name</th>\n",
       "      <th>iOS_app_id</th>\n",
       "      <th>android</th>\n",
       "      <th>android_revs</th>\n",
       "      <th>android_appID</th>\n",
       "    </tr>\n",
       "  </thead>\n",
       "  <tbody>\n",
       "    <tr>\n",
       "      <th>0</th>\n",
       "      <td>Aloe Bud</td>\n",
       "      <td>1</td>\n",
       "      <td>3000</td>\n",
       "      <td>aloe-bud</td>\n",
       "      <td>1318382054</td>\n",
       "      <td>0</td>\n",
       "      <td>0</td>\n",
       "      <td>NaN</td>\n",
       "    </tr>\n",
       "    <tr>\n",
       "      <th>1</th>\n",
       "      <td>Aura</td>\n",
       "      <td>1</td>\n",
       "      <td>22100</td>\n",
       "      <td>aura-meditation-sleep</td>\n",
       "      <td>1114223104</td>\n",
       "      <td>1</td>\n",
       "      <td>10400</td>\n",
       "      <td>com.aurahealth</td>\n",
       "    </tr>\n",
       "    <tr>\n",
       "      <th>2</th>\n",
       "      <td>BetterHelp</td>\n",
       "      <td>1</td>\n",
       "      <td>32400</td>\n",
       "      <td>betterhelp-online-counseling</td>\n",
       "      <td>995252384</td>\n",
       "      <td>1</td>\n",
       "      <td>15300</td>\n",
       "      <td>com.betterhelp</td>\n",
       "    </tr>\n",
       "    <tr>\n",
       "      <th>3</th>\n",
       "      <td>Breathe2Relax</td>\n",
       "      <td>1</td>\n",
       "      <td>200</td>\n",
       "      <td>breathe2relax</td>\n",
       "      <td>425720246</td>\n",
       "      <td>1</td>\n",
       "      <td>1100</td>\n",
       "      <td>org.t2health.breathe2relax</td>\n",
       "    </tr>\n",
       "    <tr>\n",
       "      <th>4</th>\n",
       "      <td>Calm</td>\n",
       "      <td>1</td>\n",
       "      <td>1200000</td>\n",
       "      <td>calm</td>\n",
       "      <td>571800810</td>\n",
       "      <td>1</td>\n",
       "      <td>352500</td>\n",
       "      <td>com.calm.android</td>\n",
       "    </tr>\n",
       "  </tbody>\n",
       "</table>\n",
       "</div>"
      ],
      "text/plain": [
       "        app_name  iOS  iOS_revs                  iOS_app_name  iOS_app_id  \\\n",
       "0       Aloe Bud    1      3000                      aloe-bud  1318382054   \n",
       "1           Aura    1     22100         aura-meditation-sleep  1114223104   \n",
       "2     BetterHelp    1     32400  betterhelp-online-counseling   995252384   \n",
       "3  Breathe2Relax    1       200                 breathe2relax   425720246   \n",
       "4           Calm    1   1200000                          calm   571800810   \n",
       "\n",
       "   android  android_revs               android_appID  \n",
       "0        0             0                         NaN  \n",
       "1        1         10400              com.aurahealth  \n",
       "2        1         15300              com.betterhelp  \n",
       "3        1          1100  org.t2health.breathe2relax  \n",
       "4        1        352500            com.calm.android  "
      ]
     },
     "execution_count": 3,
     "metadata": {},
     "output_type": "execute_result"
    }
   ],
   "source": [
    "## Read in file containing app details, \n",
    "  ## need the app IDs for scraping stores\n",
    "app_df = pd.read_csv('Data/mha_app_info.csv')\n",
    "app_df.head()"
   ]
  },
  {
   "cell_type": "code",
   "execution_count": 4,
   "id": "freelance-corps",
   "metadata": {
    "ExecuteTime": {
     "end_time": "2021-03-17T11:23:07.351279Z",
     "start_time": "2021-03-17T11:23:07.347298Z"
    }
   },
   "outputs": [],
   "source": [
    "## Store list of app ids and app names to loop through for App Store\n",
    "app_store_ids = list(app_df['iOS_app_id'])\n",
    "app_store_names = list(app_df['iOS_app_name'])"
   ]
  },
  {
   "cell_type": "code",
   "execution_count": 5,
   "id": "naughty-tulsa",
   "metadata": {
    "ExecuteTime": {
     "end_time": "2021-03-17T11:23:09.031366Z",
     "start_time": "2021-03-17T11:23:09.026916Z"
    }
   },
   "outputs": [
    {
     "data": {
      "text/plain": [
       "56"
      ]
     },
     "execution_count": 5,
     "metadata": {},
     "output_type": "execute_result"
    }
   ],
   "source": [
    "## Check number of apps found in App Store\n",
    "len(app_store_ids)"
   ]
  },
  {
   "cell_type": "markdown",
   "id": "official-server",
   "metadata": {},
   "source": [
    "## Set Up MongoDB"
   ]
  },
  {
   "cell_type": "code",
   "execution_count": 6,
   "id": "national-accountability",
   "metadata": {
    "ExecuteTime": {
     "end_time": "2021-03-17T11:23:10.885452Z",
     "start_time": "2021-03-17T11:23:10.854556Z"
    }
   },
   "outputs": [],
   "source": [
    "## Set up Mongo client\n",
    "client = MongoClient(host='localhost', port=27017)"
   ]
  },
  {
   "cell_type": "code",
   "execution_count": 7,
   "id": "eleven-burning",
   "metadata": {
    "ExecuteTime": {
     "end_time": "2021-03-17T11:23:11.997621Z",
     "start_time": "2021-03-17T11:23:11.995512Z"
    }
   },
   "outputs": [],
   "source": [
    "## Database for project\n",
    "mha_proj_db = client['mha_proj_db']"
   ]
  },
  {
   "cell_type": "code",
   "execution_count": 8,
   "id": "spare-killer",
   "metadata": {
    "ExecuteTime": {
     "end_time": "2021-03-17T11:23:16.303117Z",
     "start_time": "2021-03-17T11:23:16.299483Z"
    }
   },
   "outputs": [],
   "source": [
    "## Set up new collection within project db\n",
    "app_store_rvws = mha_proj_db['app_store_rvws']"
   ]
  },
  {
   "cell_type": "markdown",
   "id": "naval-report",
   "metadata": {},
   "source": [
    "## Scrape Reviews for Each App\n",
    "### Scrape Reviews from App Store"
   ]
  },
  {
   "cell_type": "code",
   "execution_count": 23,
   "id": "earned-hebrew",
   "metadata": {
    "ExecuteTime": {
     "end_time": "2021-03-17T21:55:42.032916Z",
     "start_time": "2021-03-17T21:55:41.995909Z"
    }
   },
   "outputs": [
    {
     "data": {
      "text/plain": [
       "['aloe-bud',\n",
       " 'aura-meditation-sleep',\n",
       " 'betterhelp-online-counseling',\n",
       " 'breathe2relax']"
      ]
     },
     "execution_count": 23,
     "metadata": {},
     "output_type": "execute_result"
    }
   ],
   "source": [
    "app_store_names[:4]"
   ]
  },
  {
   "cell_type": "code",
   "execution_count": 24,
   "id": "directed-tuning",
   "metadata": {
    "ExecuteTime": {
     "end_time": "2021-03-17T21:55:51.185768Z",
     "start_time": "2021-03-17T21:55:51.180508Z"
    }
   },
   "outputs": [
    {
     "data": {
      "text/plain": [
       "[1318382054, 1114223104, 995252384, 425720246]"
      ]
     },
     "execution_count": 24,
     "metadata": {},
     "output_type": "execute_result"
    }
   ],
   "source": [
    "app_store_ids[:4]"
   ]
  },
  {
   "cell_type": "code",
   "execution_count": 25,
   "id": "distinguished-cedar",
   "metadata": {
    "ExecuteTime": {
     "end_time": "2021-03-18T10:54:26.297020Z",
     "start_time": "2021-03-17T21:58:09.625531Z"
    }
   },
   "outputs": [
    {
     "name": "stdout",
     "output_type": "stream",
     "text": [
      "------------------------------------------------------------\n",
      "------------------------------------------------------------\n",
      "***** aloe-bud started at 03/17/21 - 17:58:09 PM\n",
      "\n"
     ]
    },
    {
     "name": "stderr",
     "output_type": "stream",
     "text": [
      "2021-03-17 17:58:10,847 [INFO] Base - Initialised: AppStore('us', 'aloe-bud', 1318382054)\n",
      "2021-03-17 17:58:10,848 [INFO] Base - Ready to fetch reviews from: https://apps.apple.com/us/app/aloe-bud/id1318382054\n",
      "2021-03-17 17:59:01,033 [INFO] Base - [id:1318382054] Fetched 20 reviews (20 fetched in total)\n",
      "2021-03-17 18:00:41,521 [INFO] Base - [id:1318382054] Fetched 60 reviews (60 fetched in total)\n",
      "2021-03-17 18:02:21,957 [INFO] Base - [id:1318382054] Fetched 66 reviews (66 fetched in total)\n",
      "2021-03-17 18:04:02,396 [INFO] Base - [id:1318382054] Fetched 68 reviews (68 fetched in total)\n",
      "2021-03-17 18:05:42,846 [INFO] Base - [id:1318382054] Fetched 69 reviews (69 fetched in total)\n",
      "2021-03-17 18:06:33,243 [INFO] Base - [id:1318382054] Fetched 73 reviews (73 fetched in total)\n"
     ]
    },
    {
     "name": "stdout",
     "output_type": "stream",
     "text": [
      "Done scraping aloe-bud. Scraped a total of 73 reviews.\n",
      "\n",
      "Successfully inserted aloe-bud reviews into collection at 03/17/21 - 18:06:33 PM.\n",
      "\n",
      "Time elapsed for aloe-bud: 0:08:23.755304\n",
      "------------------------------------------------------------\n",
      "------------------------------------------------------------\n",
      "\n",
      "\n",
      "------------------------------------------------------------\n",
      "------------------------------------------------------------\n",
      "***** aura-meditation-sleep started at 03/17/21 - 18:06:50 PM\n",
      "\n"
     ]
    },
    {
     "name": "stderr",
     "output_type": "stream",
     "text": [
      "2021-03-17 18:06:51,874 [INFO] Base - Initialised: AppStore('us', 'aura-meditation-sleep', 1114223104)\n",
      "2021-03-17 18:06:51,875 [INFO] Base - Ready to fetch reviews from: https://apps.apple.com/us/app/aura-meditation-sleep/id1114223104\n",
      "2021-03-17 18:07:47,055 [INFO] Base - [id:1114223104] Fetched 5 reviews (5 fetched in total)\n",
      "2021-03-17 18:09:37,496 [INFO] Base - [id:1114223104] Fetched 18 reviews (18 fetched in total)\n",
      "2021-03-17 18:11:28,011 [INFO] Base - [id:1114223104] Fetched 30 reviews (30 fetched in total)\n",
      "2021-03-17 18:13:18,660 [INFO] Base - [id:1114223104] Fetched 40 reviews (40 fetched in total)\n",
      "2021-03-17 18:15:09,211 [INFO] Base - [id:1114223104] Fetched 46 reviews (46 fetched in total)\n",
      "2021-03-17 18:16:59,677 [INFO] Base - [id:1114223104] Fetched 51 reviews (51 fetched in total)\n",
      "2021-03-17 18:18:50,385 [INFO] Base - [id:1114223104] Fetched 66 reviews (66 fetched in total)\n",
      "2021-03-17 18:20:40,830 [INFO] Base - [id:1114223104] Fetched 77 reviews (77 fetched in total)\n",
      "2021-03-17 18:22:31,275 [INFO] Base - [id:1114223104] Fetched 88 reviews (88 fetched in total)\n",
      "2021-03-17 18:24:21,763 [INFO] Base - [id:1114223104] Fetched 99 reviews (99 fetched in total)\n",
      "2021-03-17 18:26:12,251 [INFO] Base - [id:1114223104] Fetched 106 reviews (106 fetched in total)\n",
      "2021-03-17 18:28:02,806 [INFO] Base - [id:1114223104] Fetched 116 reviews (116 fetched in total)\n",
      "2021-03-17 18:29:53,460 [INFO] Base - [id:1114223104] Fetched 123 reviews (123 fetched in total)\n",
      "2021-03-17 18:31:43,892 [INFO] Base - [id:1114223104] Fetched 130 reviews (130 fetched in total)\n",
      "2021-03-17 18:33:34,440 [INFO] Base - [id:1114223104] Fetched 137 reviews (137 fetched in total)\n",
      "2021-03-17 18:35:24,880 [INFO] Base - [id:1114223104] Fetched 146 reviews (146 fetched in total)\n",
      "2021-03-17 18:37:15,366 [INFO] Base - [id:1114223104] Fetched 154 reviews (154 fetched in total)\n",
      "2021-03-17 18:39:05,803 [INFO] Base - [id:1114223104] Fetched 163 reviews (163 fetched in total)\n",
      "2021-03-17 18:40:56,457 [INFO] Base - [id:1114223104] Fetched 165 reviews (165 fetched in total)\n",
      "2021-03-17 18:42:46,948 [INFO] Base - [id:1114223104] Fetched 172 reviews (172 fetched in total)\n",
      "2021-03-17 18:44:37,372 [INFO] Base - [id:1114223104] Fetched 180 reviews (180 fetched in total)\n",
      "2021-03-17 18:46:27,806 [INFO] Base - [id:1114223104] Fetched 184 reviews (184 fetched in total)\n",
      "2021-03-17 18:48:18,262 [INFO] Base - [id:1114223104] Fetched 192 reviews (192 fetched in total)\n",
      "2021-03-17 18:50:08,760 [INFO] Base - [id:1114223104] Fetched 205 reviews (205 fetched in total)\n",
      "2021-03-17 18:51:59,236 [INFO] Base - [id:1114223104] Fetched 207 reviews (207 fetched in total)\n",
      "2021-03-17 18:53:49,985 [INFO] Base - [id:1114223104] Fetched 219 reviews (219 fetched in total)\n",
      "2021-03-17 18:55:40,375 [INFO] Base - [id:1114223104] Fetched 230 reviews (230 fetched in total)\n",
      "2021-03-17 18:57:30,891 [INFO] Base - [id:1114223104] Fetched 239 reviews (239 fetched in total)\n",
      "2021-03-17 18:59:21,290 [INFO] Base - [id:1114223104] Fetched 246 reviews (246 fetched in total)\n",
      "2021-03-17 19:01:11,805 [INFO] Base - [id:1114223104] Fetched 254 reviews (254 fetched in total)\n",
      "2021-03-17 19:03:02,347 [INFO] Base - [id:1114223104] Fetched 263 reviews (263 fetched in total)\n",
      "2021-03-17 19:04:52,776 [INFO] Base - [id:1114223104] Fetched 271 reviews (271 fetched in total)\n",
      "2021-03-17 19:06:43,173 [INFO] Base - [id:1114223104] Fetched 278 reviews (278 fetched in total)\n",
      "2021-03-17 19:08:33,593 [INFO] Base - [id:1114223104] Fetched 293 reviews (293 fetched in total)\n",
      "2021-03-17 19:10:24,063 [INFO] Base - [id:1114223104] Fetched 302 reviews (302 fetched in total)\n",
      "2021-03-17 19:12:14,483 [INFO] Base - [id:1114223104] Fetched 307 reviews (307 fetched in total)\n",
      "2021-03-17 19:14:04,958 [INFO] Base - [id:1114223104] Fetched 318 reviews (318 fetched in total)\n",
      "2021-03-17 19:15:55,412 [INFO] Base - [id:1114223104] Fetched 328 reviews (328 fetched in total)\n",
      "2021-03-17 19:17:46,127 [INFO] Base - [id:1114223104] Fetched 339 reviews (339 fetched in total)\n",
      "2021-03-17 19:19:36,539 [INFO] Base - [id:1114223104] Fetched 345 reviews (345 fetched in total)\n",
      "2021-03-17 19:21:27,065 [INFO] Base - [id:1114223104] Fetched 347 reviews (347 fetched in total)\n",
      "2021-03-17 19:23:17,544 [INFO] Base - [id:1114223104] Fetched 358 reviews (358 fetched in total)\n",
      "2021-03-17 19:25:08,011 [INFO] Base - [id:1114223104] Fetched 367 reviews (367 fetched in total)\n",
      "2021-03-17 19:26:58,559 [INFO] Base - [id:1114223104] Fetched 384 reviews (384 fetched in total)\n",
      "2021-03-17 19:28:49,018 [INFO] Base - [id:1114223104] Fetched 392 reviews (392 fetched in total)\n",
      "2021-03-17 19:30:39,461 [INFO] Base - [id:1114223104] Fetched 395 reviews (395 fetched in total)\n",
      "2021-03-17 19:32:30,106 [INFO] Base - [id:1114223104] Fetched 404 reviews (404 fetched in total)\n",
      "2021-03-17 19:34:20,545 [INFO] Base - [id:1114223104] Fetched 414 reviews (414 fetched in total)\n",
      "2021-03-17 19:36:11,150 [INFO] Base - [id:1114223104] Fetched 426 reviews (426 fetched in total)\n",
      "2021-03-17 19:38:01,678 [INFO] Base - [id:1114223104] Fetched 434 reviews (434 fetched in total)\n",
      "2021-03-17 19:39:52,681 [INFO] Base - [id:1114223104] Fetched 440 reviews (440 fetched in total)\n",
      "2021-03-17 19:41:43,165 [INFO] Base - [id:1114223104] Fetched 447 reviews (447 fetched in total)\n",
      "2021-03-17 19:43:33,568 [INFO] Base - [id:1114223104] Fetched 464 reviews (464 fetched in total)\n",
      "2021-03-17 19:45:24,100 [INFO] Base - [id:1114223104] Fetched 473 reviews (473 fetched in total)\n",
      "2021-03-17 19:47:14,613 [INFO] Base - [id:1114223104] Fetched 480 reviews (480 fetched in total)\n",
      "2021-03-17 19:49:05,022 [INFO] Base - [id:1114223104] Fetched 483 reviews (483 fetched in total)\n",
      "2021-03-17 19:50:55,510 [INFO] Base - [id:1114223104] Fetched 493 reviews (493 fetched in total)\n",
      "2021-03-17 19:52:46,005 [INFO] Base - [id:1114223104] Fetched 508 reviews (508 fetched in total)\n",
      "2021-03-17 19:54:36,545 [INFO] Base - [id:1114223104] Fetched 516 reviews (516 fetched in total)\n",
      "2021-03-17 19:56:26,921 [INFO] Base - [id:1114223104] Fetched 531 reviews (531 fetched in total)\n",
      "2021-03-17 19:58:18,147 [INFO] Base - [id:1114223104] Fetched 538 reviews (538 fetched in total)\n",
      "2021-03-17 20:00:08,535 [INFO] Base - [id:1114223104] Fetched 545 reviews (545 fetched in total)\n",
      "2021-03-17 20:01:59,064 [INFO] Base - [id:1114223104] Fetched 554 reviews (554 fetched in total)\n",
      "2021-03-17 20:03:49,549 [INFO] Base - [id:1114223104] Fetched 559 reviews (559 fetched in total)\n",
      "2021-03-17 20:05:40,110 [INFO] Base - [id:1114223104] Fetched 569 reviews (569 fetched in total)\n",
      "2021-03-17 20:07:30,555 [INFO] Base - [id:1114223104] Fetched 574 reviews (574 fetched in total)\n",
      "2021-03-17 20:09:21,112 [INFO] Base - [id:1114223104] Fetched 582 reviews (582 fetched in total)\n",
      "2021-03-17 20:11:11,607 [INFO] Base - [id:1114223104] Fetched 591 reviews (591 fetched in total)\n",
      "2021-03-17 20:13:02,144 [INFO] Base - [id:1114223104] Fetched 591 reviews (591 fetched in total)\n",
      "2021-03-17 20:14:52,723 [INFO] Base - [id:1114223104] Fetched 602 reviews (602 fetched in total)\n",
      "2021-03-17 20:16:43,382 [INFO] Base - [id:1114223104] Fetched 616 reviews (616 fetched in total)\n",
      "2021-03-17 20:18:34,204 [INFO] Base - [id:1114223104] Fetched 627 reviews (627 fetched in total)\n",
      "2021-03-17 20:20:24,710 [INFO] Base - [id:1114223104] Fetched 628 reviews (628 fetched in total)\n",
      "2021-03-17 20:22:15,156 [INFO] Base - [id:1114223104] Fetched 635 reviews (635 fetched in total)\n",
      "2021-03-17 20:24:05,750 [INFO] Base - [id:1114223104] Fetched 641 reviews (641 fetched in total)\n",
      "2021-03-17 20:25:56,314 [INFO] Base - [id:1114223104] Fetched 646 reviews (646 fetched in total)\n",
      "2021-03-17 20:27:46,862 [INFO] Base - [id:1114223104] Fetched 654 reviews (654 fetched in total)\n",
      "2021-03-17 20:29:37,585 [INFO] Base - [id:1114223104] Fetched 664 reviews (664 fetched in total)\n",
      "2021-03-17 20:31:28,025 [INFO] Base - [id:1114223104] Fetched 675 reviews (675 fetched in total)\n",
      "2021-03-17 20:33:18,428 [INFO] Base - [id:1114223104] Fetched 679 reviews (679 fetched in total)\n",
      "2021-03-17 20:35:08,937 [INFO] Base - [id:1114223104] Fetched 688 reviews (688 fetched in total)\n",
      "2021-03-17 20:36:59,402 [INFO] Base - [id:1114223104] Fetched 701 reviews (701 fetched in total)\n",
      "2021-03-17 20:38:50,222 [INFO] Base - [id:1114223104] Fetched 712 reviews (712 fetched in total)\n"
     ]
    },
    {
     "name": "stderr",
     "output_type": "stream",
     "text": [
      "2021-03-17 20:40:40,719 [INFO] Base - [id:1114223104] Fetched 722 reviews (722 fetched in total)\n",
      "2021-03-17 20:42:31,291 [INFO] Base - [id:1114223104] Fetched 728 reviews (728 fetched in total)\n",
      "2021-03-17 20:44:21,723 [INFO] Base - [id:1114223104] Fetched 733 reviews (733 fetched in total)\n",
      "2021-03-17 20:46:12,162 [INFO] Base - [id:1114223104] Fetched 745 reviews (745 fetched in total)\n",
      "2021-03-17 20:48:02,634 [INFO] Base - [id:1114223104] Fetched 755 reviews (755 fetched in total)\n",
      "2021-03-17 20:49:53,194 [INFO] Base - [id:1114223104] Fetched 757 reviews (757 fetched in total)\n",
      "2021-03-17 20:51:43,674 [INFO] Base - [id:1114223104] Fetched 772 reviews (772 fetched in total)\n",
      "2021-03-17 20:53:34,276 [INFO] Base - [id:1114223104] Fetched 776 reviews (776 fetched in total)\n",
      "2021-03-17 20:55:24,782 [INFO] Base - [id:1114223104] Fetched 784 reviews (784 fetched in total)\n",
      "2021-03-17 20:57:15,287 [INFO] Base - [id:1114223104] Fetched 787 reviews (787 fetched in total)\n",
      "2021-03-17 20:59:05,696 [INFO] Base - [id:1114223104] Fetched 797 reviews (797 fetched in total)\n",
      "2021-03-17 21:00:56,237 [INFO] Base - [id:1114223104] Fetched 803 reviews (803 fetched in total)\n",
      "2021-03-17 21:02:46,698 [INFO] Base - [id:1114223104] Fetched 808 reviews (808 fetched in total)\n",
      "2021-03-17 21:04:37,443 [INFO] Base - [id:1114223104] Fetched 813 reviews (813 fetched in total)\n",
      "2021-03-17 21:06:28,037 [INFO] Base - [id:1114223104] Fetched 817 reviews (817 fetched in total)\n",
      "2021-03-17 21:08:18,648 [INFO] Base - [id:1114223104] Fetched 827 reviews (827 fetched in total)\n",
      "2021-03-17 21:10:09,118 [INFO] Base - [id:1114223104] Fetched 834 reviews (834 fetched in total)\n",
      "2021-03-17 21:11:59,535 [INFO] Base - [id:1114223104] Fetched 845 reviews (845 fetched in total)\n",
      "2021-03-17 21:13:50,288 [INFO] Base - [id:1114223104] Fetched 854 reviews (854 fetched in total)\n",
      "2021-03-17 21:15:40,982 [INFO] Base - [id:1114223104] Fetched 863 reviews (863 fetched in total)\n",
      "2021-03-17 21:17:31,459 [INFO] Base - [id:1114223104] Fetched 868 reviews (868 fetched in total)\n",
      "2021-03-17 21:19:23,293 [INFO] Base - [id:1114223104] Fetched 873 reviews (873 fetched in total)\n",
      "2021-03-17 21:21:13,675 [INFO] Base - [id:1114223104] Fetched 883 reviews (883 fetched in total)\n",
      "2021-03-17 21:23:04,179 [INFO] Base - [id:1114223104] Fetched 887 reviews (887 fetched in total)\n",
      "2021-03-17 21:24:54,715 [INFO] Base - [id:1114223104] Fetched 898 reviews (898 fetched in total)\n",
      "2021-03-17 21:26:45,201 [INFO] Base - [id:1114223104] Fetched 908 reviews (908 fetched in total)\n",
      "2021-03-17 21:28:35,565 [INFO] Base - [id:1114223104] Fetched 913 reviews (913 fetched in total)\n",
      "2021-03-17 21:30:25,978 [INFO] Base - [id:1114223104] Fetched 923 reviews (923 fetched in total)\n",
      "2021-03-17 21:32:16,503 [INFO] Base - [id:1114223104] Fetched 927 reviews (927 fetched in total)\n",
      "2021-03-17 21:34:07,025 [INFO] Base - [id:1114223104] Fetched 932 reviews (932 fetched in total)\n",
      "2021-03-17 21:35:57,509 [INFO] Base - [id:1114223104] Fetched 942 reviews (942 fetched in total)\n",
      "2021-03-17 21:37:48,300 [INFO] Base - [id:1114223104] Fetched 947 reviews (947 fetched in total)\n",
      "2021-03-17 21:39:39,140 [INFO] Base - [id:1114223104] Fetched 955 reviews (955 fetched in total)\n",
      "2021-03-17 21:41:29,662 [INFO] Base - [id:1114223104] Fetched 965 reviews (965 fetched in total)\n",
      "2021-03-17 21:43:20,334 [INFO] Base - [id:1114223104] Fetched 971 reviews (971 fetched in total)\n",
      "2021-03-17 21:45:10,886 [INFO] Base - [id:1114223104] Fetched 978 reviews (978 fetched in total)\n",
      "2021-03-17 21:47:01,366 [INFO] Base - [id:1114223104] Fetched 988 reviews (988 fetched in total)\n",
      "2021-03-17 21:48:51,966 [INFO] Base - [id:1114223104] Fetched 994 reviews (994 fetched in total)\n",
      "2021-03-17 21:50:42,486 [INFO] Base - [id:1114223104] Fetched 1005 reviews (1005 fetched in total)\n",
      "2021-03-17 21:52:33,242 [INFO] Base - [id:1114223104] Fetched 1011 reviews (1011 fetched in total)\n",
      "2021-03-17 21:54:23,822 [INFO] Base - [id:1114223104] Fetched 1018 reviews (1018 fetched in total)\n",
      "2021-03-17 21:56:14,330 [INFO] Base - [id:1114223104] Fetched 1025 reviews (1025 fetched in total)\n",
      "2021-03-17 21:58:04,886 [INFO] Base - [id:1114223104] Fetched 1030 reviews (1030 fetched in total)\n",
      "2021-03-17 21:59:55,371 [INFO] Base - [id:1114223104] Fetched 1035 reviews (1035 fetched in total)\n",
      "2021-03-17 22:01:46,080 [INFO] Base - [id:1114223104] Fetched 1038 reviews (1038 fetched in total)\n",
      "2021-03-17 22:03:36,580 [INFO] Base - [id:1114223104] Fetched 1045 reviews (1045 fetched in total)\n",
      "2021-03-17 22:05:27,078 [INFO] Base - [id:1114223104] Fetched 1054 reviews (1054 fetched in total)\n",
      "2021-03-17 22:07:17,525 [INFO] Base - [id:1114223104] Fetched 1058 reviews (1058 fetched in total)\n",
      "2021-03-17 22:09:08,102 [INFO] Base - [id:1114223104] Fetched 1064 reviews (1064 fetched in total)\n",
      "2021-03-17 22:10:58,727 [INFO] Base - [id:1114223104] Fetched 1067 reviews (1067 fetched in total)\n",
      "2021-03-17 22:12:49,333 [INFO] Base - [id:1114223104] Fetched 1072 reviews (1072 fetched in total)\n",
      "2021-03-17 22:14:40,600 [INFO] Base - [id:1114223104] Fetched 1081 reviews (1081 fetched in total)\n",
      "2021-03-17 22:16:31,103 [INFO] Base - [id:1114223104] Fetched 1082 reviews (1082 fetched in total)\n",
      "2021-03-17 22:18:21,609 [INFO] Base - [id:1114223104] Fetched 1082 reviews (1082 fetched in total)\n",
      "2021-03-17 22:20:12,031 [INFO] Base - [id:1114223104] Fetched 1082 reviews (1082 fetched in total)\n",
      "2021-03-17 22:22:02,464 [INFO] Base - [id:1114223104] Fetched 1082 reviews (1082 fetched in total)\n",
      "2021-03-17 22:23:52,984 [INFO] Base - [id:1114223104] Fetched 1082 reviews (1082 fetched in total)\n",
      "2021-03-17 22:25:43,545 [INFO] Base - [id:1114223104] Fetched 1082 reviews (1082 fetched in total)\n",
      "2021-03-17 22:27:33,990 [INFO] Base - [id:1114223104] Fetched 1082 reviews (1082 fetched in total)\n",
      "2021-03-17 22:29:24,529 [INFO] Base - [id:1114223104] Fetched 1082 reviews (1082 fetched in total)\n",
      "2021-03-17 22:31:15,107 [INFO] Base - [id:1114223104] Fetched 1082 reviews (1082 fetched in total)\n",
      "2021-03-17 22:33:05,690 [INFO] Base - [id:1114223104] Fetched 1082 reviews (1082 fetched in total)\n",
      "2021-03-17 22:34:56,121 [INFO] Base - [id:1114223104] Fetched 1082 reviews (1082 fetched in total)\n",
      "2021-03-17 22:36:46,776 [INFO] Base - [id:1114223104] Fetched 1082 reviews (1082 fetched in total)\n",
      "2021-03-17 22:38:37,281 [INFO] Base - [id:1114223104] Fetched 1082 reviews (1082 fetched in total)\n",
      "2021-03-17 22:40:27,811 [INFO] Base - [id:1114223104] Fetched 1082 reviews (1082 fetched in total)\n",
      "2021-03-17 22:42:18,277 [INFO] Base - [id:1114223104] Fetched 1082 reviews (1082 fetched in total)\n",
      "2021-03-17 22:44:08,731 [INFO] Base - [id:1114223104] Fetched 1082 reviews (1082 fetched in total)\n",
      "2021-03-17 22:45:59,193 [INFO] Base - [id:1114223104] Fetched 1082 reviews (1082 fetched in total)\n",
      "2021-03-17 22:47:49,669 [INFO] Base - [id:1114223104] Fetched 1082 reviews (1082 fetched in total)\n",
      "2021-03-17 22:49:40,424 [INFO] Base - [id:1114223104] Fetched 1082 reviews (1082 fetched in total)\n",
      "2021-03-17 22:51:30,938 [INFO] Base - [id:1114223104] Fetched 1082 reviews (1082 fetched in total)\n",
      "2021-03-17 22:53:21,486 [INFO] Base - [id:1114223104] Fetched 1094 reviews (1094 fetched in total)\n",
      "2021-03-17 22:55:12,060 [INFO] Base - [id:1114223104] Fetched 1094 reviews (1094 fetched in total)\n",
      "2021-03-17 22:57:02,592 [INFO] Base - [id:1114223104] Fetched 1098 reviews (1098 fetched in total)\n",
      "2021-03-17 22:58:53,189 [INFO] Base - [id:1114223104] Fetched 1121 reviews (1121 fetched in total)\n",
      "2021-03-17 23:00:43,653 [INFO] Base - [id:1114223104] Fetched 1121 reviews (1121 fetched in total)\n",
      "2021-03-17 23:02:34,119 [INFO] Base - [id:1114223104] Fetched 1121 reviews (1121 fetched in total)\n",
      "2021-03-17 23:02:34,606 [INFO] Base - [id:1114223104] Fetched 1121 reviews (1121 fetched in total)\n"
     ]
    },
    {
     "name": "stdout",
     "output_type": "stream",
     "text": [
      "Done scraping aura-meditation-sleep. Scraped a total of 1121 reviews.\n",
      "\n",
      "Successfully inserted aura-meditation-sleep reviews into collection at 03/17/21 - 23:02:34 PM.\n",
      "\n",
      "Time elapsed for aura-meditation-sleep: 4:55:44.371647\n",
      "------------------------------------------------------------\n",
      "------------------------------------------------------------\n",
      "\n",
      "\n",
      "------------------------------------------------------------\n",
      "------------------------------------------------------------\n",
      "***** betterhelp-online-counseling started at 03/17/21 - 23:02:48 PM\n",
      "\n"
     ]
    },
    {
     "name": "stderr",
     "output_type": "stream",
     "text": [
      "2021-03-17 23:02:49,822 [INFO] Base - Initialised: AppStore('us', 'betterhelp-online-counseling', 995252384)\n",
      "2021-03-17 23:02:49,824 [INFO] Base - Ready to fetch reviews from: https://apps.apple.com/us/app/betterhelp-online-counseling/id995252384\n",
      "2021-03-17 23:03:49,113 [INFO] Base - [id:995252384] Fetched 14 reviews (14 fetched in total)\n",
      "2021-03-17 23:05:47,586 [INFO] Base - [id:995252384] Fetched 37 reviews (37 fetched in total)\n",
      "2021-03-17 23:07:46,003 [INFO] Base - [id:995252384] Fetched 63 reviews (63 fetched in total)\n",
      "2021-03-17 23:09:44,511 [INFO] Base - [id:995252384] Fetched 88 reviews (88 fetched in total)\n",
      "2021-03-17 23:11:42,999 [INFO] Base - [id:995252384] Fetched 114 reviews (114 fetched in total)\n",
      "2021-03-17 23:13:41,455 [INFO] Base - [id:995252384] Fetched 141 reviews (141 fetched in total)\n",
      "2021-03-17 23:15:39,993 [INFO] Base - [id:995252384] Fetched 165 reviews (165 fetched in total)\n",
      "2021-03-17 23:17:38,425 [INFO] Base - [id:995252384] Fetched 194 reviews (194 fetched in total)\n",
      "2021-03-17 23:19:36,886 [INFO] Base - [id:995252384] Fetched 221 reviews (221 fetched in total)\n",
      "2021-03-17 23:21:35,331 [INFO] Base - [id:995252384] Fetched 248 reviews (248 fetched in total)\n",
      "2021-03-17 23:23:33,827 [INFO] Base - [id:995252384] Fetched 273 reviews (273 fetched in total)\n",
      "2021-03-17 23:25:32,328 [INFO] Base - [id:995252384] Fetched 299 reviews (299 fetched in total)\n",
      "2021-03-17 23:27:30,846 [INFO] Base - [id:995252384] Fetched 321 reviews (321 fetched in total)\n",
      "2021-03-17 23:29:29,425 [INFO] Base - [id:995252384] Fetched 348 reviews (348 fetched in total)\n",
      "2021-03-17 23:31:27,997 [INFO] Base - [id:995252384] Fetched 380 reviews (380 fetched in total)\n",
      "2021-03-17 23:33:26,469 [INFO] Base - [id:995252384] Fetched 409 reviews (409 fetched in total)\n",
      "2021-03-17 23:35:25,008 [INFO] Base - [id:995252384] Fetched 432 reviews (432 fetched in total)\n",
      "2021-03-17 23:37:23,593 [INFO] Base - [id:995252384] Fetched 462 reviews (462 fetched in total)\n",
      "2021-03-17 23:39:22,198 [INFO] Base - [id:995252384] Fetched 489 reviews (489 fetched in total)\n",
      "2021-03-17 23:41:20,692 [INFO] Base - [id:995252384] Fetched 517 reviews (517 fetched in total)\n",
      "2021-03-17 23:43:19,187 [INFO] Base - [id:995252384] Fetched 541 reviews (541 fetched in total)\n",
      "2021-03-17 23:45:17,797 [INFO] Base - [id:995252384] Fetched 566 reviews (566 fetched in total)\n",
      "2021-03-17 23:47:16,269 [INFO] Base - [id:995252384] Fetched 595 reviews (595 fetched in total)\n",
      "2021-03-17 23:49:14,728 [INFO] Base - [id:995252384] Fetched 615 reviews (615 fetched in total)\n",
      "2021-03-17 23:51:13,287 [INFO] Base - [id:995252384] Fetched 649 reviews (649 fetched in total)\n",
      "2021-03-17 23:53:11,846 [INFO] Base - [id:995252384] Fetched 678 reviews (678 fetched in total)\n",
      "2021-03-17 23:55:10,321 [INFO] Base - [id:995252384] Fetched 704 reviews (704 fetched in total)\n",
      "2021-03-17 23:57:08,836 [INFO] Base - [id:995252384] Fetched 733 reviews (733 fetched in total)\n",
      "2021-03-17 23:59:07,314 [INFO] Base - [id:995252384] Fetched 756 reviews (756 fetched in total)\n",
      "2021-03-18 00:01:05,917 [INFO] Base - [id:995252384] Fetched 784 reviews (784 fetched in total)\n",
      "2021-03-18 00:03:04,423 [INFO] Base - [id:995252384] Fetched 805 reviews (805 fetched in total)\n",
      "2021-03-18 00:05:04,336 [INFO] Base - [id:995252384] Fetched 833 reviews (833 fetched in total)\n",
      "2021-03-18 00:07:02,916 [INFO] Base - [id:995252384] Fetched 864 reviews (864 fetched in total)\n",
      "2021-03-18 00:09:02,618 [INFO] Base - [id:995252384] Fetched 889 reviews (889 fetched in total)\n",
      "2021-03-18 00:11:01,106 [INFO] Base - [id:995252384] Fetched 915 reviews (915 fetched in total)\n",
      "2021-03-18 00:12:59,722 [INFO] Base - [id:995252384] Fetched 944 reviews (944 fetched in total)\n",
      "2021-03-18 00:15:00,008 [INFO] Base - [id:995252384] Fetched 970 reviews (970 fetched in total)\n",
      "2021-03-18 00:16:58,436 [INFO] Base - [id:995252384] Fetched 990 reviews (990 fetched in total)\n",
      "2021-03-18 00:18:57,302 [INFO] Base - [id:995252384] Fetched 1020 reviews (1020 fetched in total)\n",
      "2021-03-18 00:20:56,229 [INFO] Base - [id:995252384] Fetched 1040 reviews (1040 fetched in total)\n",
      "2021-03-18 00:22:54,708 [INFO] Base - [id:995252384] Fetched 1069 reviews (1069 fetched in total)\n",
      "2021-03-18 00:24:53,166 [INFO] Base - [id:995252384] Fetched 1101 reviews (1101 fetched in total)\n",
      "2021-03-18 00:26:51,729 [INFO] Base - [id:995252384] Fetched 1124 reviews (1124 fetched in total)\n",
      "2021-03-18 00:28:50,155 [INFO] Base - [id:995252384] Fetched 1146 reviews (1146 fetched in total)\n",
      "2021-03-18 00:30:48,724 [INFO] Base - [id:995252384] Fetched 1176 reviews (1176 fetched in total)\n",
      "2021-03-18 00:32:47,145 [INFO] Base - [id:995252384] Fetched 1198 reviews (1198 fetched in total)\n",
      "2021-03-18 00:34:45,743 [INFO] Base - [id:995252384] Fetched 1228 reviews (1228 fetched in total)\n",
      "2021-03-18 00:36:44,241 [INFO] Base - [id:995252384] Fetched 1253 reviews (1253 fetched in total)\n",
      "2021-03-18 00:38:42,694 [INFO] Base - [id:995252384] Fetched 1280 reviews (1280 fetched in total)\n",
      "2021-03-18 00:40:41,191 [INFO] Base - [id:995252384] Fetched 1302 reviews (1302 fetched in total)\n",
      "2021-03-18 00:42:39,693 [INFO] Base - [id:995252384] Fetched 1331 reviews (1331 fetched in total)\n",
      "2021-03-18 00:44:38,157 [INFO] Base - [id:995252384] Fetched 1356 reviews (1356 fetched in total)\n",
      "2021-03-18 00:46:36,562 [INFO] Base - [id:995252384] Fetched 1380 reviews (1380 fetched in total)\n",
      "2021-03-18 00:48:35,100 [INFO] Base - [id:995252384] Fetched 1409 reviews (1409 fetched in total)\n",
      "2021-03-18 00:50:33,792 [INFO] Base - [id:995252384] Fetched 1438 reviews (1438 fetched in total)\n",
      "2021-03-18 00:52:32,229 [INFO] Base - [id:995252384] Fetched 1471 reviews (1471 fetched in total)\n",
      "2021-03-18 00:54:30,720 [INFO] Base - [id:995252384] Fetched 1499 reviews (1499 fetched in total)\n",
      "2021-03-18 00:56:29,255 [INFO] Base - [id:995252384] Fetched 1520 reviews (1520 fetched in total)\n",
      "2021-03-18 00:58:27,815 [INFO] Base - [id:995252384] Fetched 1544 reviews (1544 fetched in total)\n",
      "2021-03-18 01:00:26,328 [INFO] Base - [id:995252384] Fetched 1570 reviews (1570 fetched in total)\n",
      "2021-03-18 01:02:25,117 [INFO] Base - [id:995252384] Fetched 1599 reviews (1599 fetched in total)\n",
      "2021-03-18 01:04:23,648 [INFO] Base - [id:995252384] Fetched 1633 reviews (1633 fetched in total)\n",
      "2021-03-18 01:06:22,068 [INFO] Base - [id:995252384] Fetched 1659 reviews (1659 fetched in total)\n",
      "2021-03-18 01:08:20,541 [INFO] Base - [id:995252384] Fetched 1684 reviews (1684 fetched in total)\n",
      "2021-03-18 01:10:19,010 [INFO] Base - [id:995252384] Fetched 1705 reviews (1705 fetched in total)\n",
      "2021-03-18 01:12:17,509 [INFO] Base - [id:995252384] Fetched 1734 reviews (1734 fetched in total)\n",
      "2021-03-18 01:14:16,005 [INFO] Base - [id:995252384] Fetched 1762 reviews (1762 fetched in total)\n",
      "2021-03-18 01:16:14,579 [INFO] Base - [id:995252384] Fetched 1786 reviews (1786 fetched in total)\n",
      "2021-03-18 01:18:13,137 [INFO] Base - [id:995252384] Fetched 1808 reviews (1808 fetched in total)\n",
      "2021-03-18 01:20:11,646 [INFO] Base - [id:995252384] Fetched 1840 reviews (1840 fetched in total)\n",
      "2021-03-18 01:22:10,171 [INFO] Base - [id:995252384] Fetched 1867 reviews (1867 fetched in total)\n",
      "2021-03-18 01:24:08,663 [INFO] Base - [id:995252384] Fetched 1891 reviews (1891 fetched in total)\n",
      "2021-03-18 01:26:07,321 [INFO] Base - [id:995252384] Fetched 1915 reviews (1915 fetched in total)\n",
      "2021-03-18 01:28:05,786 [INFO] Base - [id:995252384] Fetched 1948 reviews (1948 fetched in total)\n",
      "2021-03-18 01:30:04,218 [INFO] Base - [id:995252384] Fetched 1974 reviews (1974 fetched in total)\n",
      "2021-03-18 01:32:02,737 [INFO] Base - [id:995252384] Fetched 2002 reviews (2002 fetched in total)\n",
      "2021-03-18 01:34:01,868 [INFO] Base - [id:995252384] Fetched 2030 reviews (2030 fetched in total)\n",
      "2021-03-18 01:36:00,449 [INFO] Base - [id:995252384] Fetched 2066 reviews (2066 fetched in total)\n",
      "2021-03-18 01:37:58,931 [INFO] Base - [id:995252384] Fetched 2081 reviews (2081 fetched in total)\n",
      "2021-03-18 01:39:57,360 [INFO] Base - [id:995252384] Fetched 2114 reviews (2114 fetched in total)\n",
      "2021-03-18 01:41:55,881 [INFO] Base - [id:995252384] Fetched 2145 reviews (2145 fetched in total)\n",
      "2021-03-18 01:43:54,761 [INFO] Base - [id:995252384] Fetched 2170 reviews (2170 fetched in total)\n"
     ]
    },
    {
     "name": "stderr",
     "output_type": "stream",
     "text": [
      "2021-03-18 01:45:53,219 [INFO] Base - [id:995252384] Fetched 2188 reviews (2188 fetched in total)\n",
      "2021-03-18 01:47:51,663 [INFO] Base - [id:995252384] Fetched 2223 reviews (2223 fetched in total)\n",
      "2021-03-18 01:49:50,183 [INFO] Base - [id:995252384] Fetched 2248 reviews (2248 fetched in total)\n",
      "2021-03-18 01:51:48,683 [INFO] Base - [id:995252384] Fetched 2260 reviews (2260 fetched in total)\n",
      "2021-03-18 01:53:47,229 [INFO] Base - [id:995252384] Fetched 2297 reviews (2297 fetched in total)\n",
      "2021-03-18 01:55:45,680 [INFO] Base - [id:995252384] Fetched 2309 reviews (2309 fetched in total)\n",
      "2021-03-18 01:57:45,910 [INFO] Base - [id:995252384] Fetched 2343 reviews (2343 fetched in total)\n",
      "2021-03-18 01:59:44,458 [INFO] Base - [id:995252384] Fetched 2366 reviews (2366 fetched in total)\n",
      "2021-03-18 02:01:43,008 [INFO] Base - [id:995252384] Fetched 2385 reviews (2385 fetched in total)\n",
      "2021-03-18 02:03:41,506 [INFO] Base - [id:995252384] Fetched 2420 reviews (2420 fetched in total)\n",
      "2021-03-18 02:05:39,941 [INFO] Base - [id:995252384] Fetched 2439 reviews (2439 fetched in total)\n",
      "2021-03-18 02:07:38,440 [INFO] Base - [id:995252384] Fetched 2470 reviews (2470 fetched in total)\n",
      "2021-03-18 02:09:36,877 [INFO] Base - [id:995252384] Fetched 2500 reviews (2500 fetched in total)\n",
      "2021-03-18 02:11:35,461 [INFO] Base - [id:995252384] Fetched 2521 reviews (2521 fetched in total)\n",
      "2021-03-18 02:13:34,073 [INFO] Base - [id:995252384] Fetched 2559 reviews (2559 fetched in total)\n",
      "2021-03-18 02:15:32,678 [INFO] Base - [id:995252384] Fetched 2575 reviews (2575 fetched in total)\n",
      "2021-03-18 02:17:31,249 [INFO] Base - [id:995252384] Fetched 2597 reviews (2597 fetched in total)\n",
      "2021-03-18 02:19:29,763 [INFO] Base - [id:995252384] Fetched 2633 reviews (2633 fetched in total)\n",
      "2021-03-18 02:21:28,446 [INFO] Base - [id:995252384] Fetched 2647 reviews (2647 fetched in total)\n",
      "2021-03-18 02:23:27,066 [INFO] Base - [id:995252384] Fetched 2686 reviews (2686 fetched in total)\n",
      "2021-03-18 02:25:25,531 [INFO] Base - [id:995252384] Fetched 2704 reviews (2704 fetched in total)\n",
      "2021-03-18 02:27:23,967 [INFO] Base - [id:995252384] Fetched 2741 reviews (2741 fetched in total)\n",
      "2021-03-18 02:29:22,502 [INFO] Base - [id:995252384] Fetched 2763 reviews (2763 fetched in total)\n",
      "2021-03-18 02:31:21,108 [INFO] Base - [id:995252384] Fetched 2788 reviews (2788 fetched in total)\n",
      "2021-03-18 02:33:19,808 [INFO] Base - [id:995252384] Fetched 2828 reviews (2828 fetched in total)\n",
      "2021-03-18 02:35:18,256 [INFO] Base - [id:995252384] Fetched 2847 reviews (2847 fetched in total)\n",
      "2021-03-18 02:37:16,758 [INFO] Base - [id:995252384] Fetched 2878 reviews (2878 fetched in total)\n",
      "2021-03-18 02:39:15,198 [INFO] Base - [id:995252384] Fetched 2902 reviews (2902 fetched in total)\n",
      "2021-03-18 02:41:13,727 [INFO] Base - [id:995252384] Fetched 2923 reviews (2923 fetched in total)\n",
      "2021-03-18 02:43:12,318 [INFO] Base - [id:995252384] Fetched 2955 reviews (2955 fetched in total)\n",
      "2021-03-18 02:45:10,817 [INFO] Base - [id:995252384] Fetched 2976 reviews (2976 fetched in total)\n",
      "2021-03-18 02:47:09,279 [INFO] Base - [id:995252384] Fetched 3015 reviews (3015 fetched in total)\n",
      "2021-03-18 02:49:07,683 [INFO] Base - [id:995252384] Fetched 3032 reviews (3032 fetched in total)\n",
      "2021-03-18 02:51:06,136 [INFO] Base - [id:995252384] Fetched 3070 reviews (3070 fetched in total)\n",
      "2021-03-18 02:53:04,730 [INFO] Base - [id:995252384] Fetched 3086 reviews (3086 fetched in total)\n",
      "2021-03-18 02:55:03,471 [INFO] Base - [id:995252384] Fetched 3125 reviews (3125 fetched in total)\n",
      "2021-03-18 02:57:01,992 [INFO] Base - [id:995252384] Fetched 3140 reviews (3140 fetched in total)\n",
      "2021-03-18 02:59:00,576 [INFO] Base - [id:995252384] Fetched 3179 reviews (3179 fetched in total)\n",
      "2021-03-18 03:00:59,074 [INFO] Base - [id:995252384] Fetched 3199 reviews (3199 fetched in total)\n",
      "2021-03-18 03:02:57,560 [INFO] Base - [id:995252384] Fetched 3228 reviews (3228 fetched in total)\n",
      "2021-03-18 03:04:56,258 [INFO] Base - [id:995252384] Fetched 3256 reviews (3256 fetched in total)\n",
      "2021-03-18 03:06:54,791 [INFO] Base - [id:995252384] Fetched 3282 reviews (3282 fetched in total)\n",
      "2021-03-18 03:08:53,262 [INFO] Base - [id:995252384] Fetched 3316 reviews (3316 fetched in total)\n",
      "2021-03-18 03:10:51,689 [INFO] Base - [id:995252384] Fetched 3346 reviews (3346 fetched in total)\n",
      "2021-03-18 03:12:50,111 [INFO] Base - [id:995252384] Fetched 3374 reviews (3374 fetched in total)\n",
      "2021-03-18 03:14:48,561 [INFO] Base - [id:995252384] Fetched 3399 reviews (3399 fetched in total)\n",
      "2021-03-18 03:16:47,084 [INFO] Base - [id:995252384] Fetched 3422 reviews (3422 fetched in total)\n",
      "2021-03-18 03:18:45,553 [INFO] Base - [id:995252384] Fetched 3454 reviews (3454 fetched in total)\n",
      "2021-03-18 03:20:43,988 [INFO] Base - [id:995252384] Fetched 3471 reviews (3471 fetched in total)\n",
      "2021-03-18 03:22:42,461 [INFO] Base - [id:995252384] Fetched 3508 reviews (3508 fetched in total)\n",
      "2021-03-18 03:24:40,898 [INFO] Base - [id:995252384] Fetched 3533 reviews (3533 fetched in total)\n",
      "2021-03-18 03:26:39,405 [INFO] Base - [id:995252384] Fetched 3562 reviews (3562 fetched in total)\n",
      "2021-03-18 03:28:37,907 [INFO] Base - [id:995252384] Fetched 3592 reviews (3592 fetched in total)\n",
      "2021-03-18 03:30:36,423 [INFO] Base - [id:995252384] Fetched 3614 reviews (3614 fetched in total)\n",
      "2021-03-18 03:32:34,904 [INFO] Base - [id:995252384] Fetched 3649 reviews (3649 fetched in total)\n",
      "2021-03-18 03:34:33,419 [INFO] Base - [id:995252384] Fetched 3680 reviews (3680 fetched in total)\n",
      "2021-03-18 03:36:31,908 [INFO] Base - [id:995252384] Fetched 3708 reviews (3708 fetched in total)\n",
      "2021-03-18 03:38:30,357 [INFO] Base - [id:995252384] Fetched 3734 reviews (3734 fetched in total)\n",
      "2021-03-18 03:40:28,838 [INFO] Base - [id:995252384] Fetched 3753 reviews (3753 fetched in total)\n",
      "2021-03-18 03:42:27,338 [INFO] Base - [id:995252384] Fetched 3793 reviews (3793 fetched in total)\n",
      "2021-03-18 03:44:25,844 [INFO] Base - [id:995252384] Fetched 3804 reviews (3804 fetched in total)\n",
      "2021-03-18 03:46:24,292 [INFO] Base - [id:995252384] Fetched 3837 reviews (3837 fetched in total)\n",
      "2021-03-18 03:48:22,981 [INFO] Base - [id:995252384] Fetched 3864 reviews (3864 fetched in total)\n",
      "2021-03-18 03:50:21,574 [INFO] Base - [id:995252384] Fetched 3879 reviews (3879 fetched in total)\n",
      "2021-03-18 03:52:20,030 [INFO] Base - [id:995252384] Fetched 3917 reviews (3917 fetched in total)\n",
      "2021-03-18 03:54:18,557 [INFO] Base - [id:995252384] Fetched 3931 reviews (3931 fetched in total)\n",
      "2021-03-18 03:56:17,098 [INFO] Base - [id:995252384] Fetched 3971 reviews (3971 fetched in total)\n",
      "2021-03-18 03:58:15,579 [INFO] Base - [id:995252384] Fetched 3992 reviews (3992 fetched in total)\n",
      "2021-03-18 04:00:14,085 [INFO] Base - [id:995252384] Fetched 4026 reviews (4026 fetched in total)\n",
      "2021-03-18 04:02:12,567 [INFO] Base - [id:995252384] Fetched 4047 reviews (4047 fetched in total)\n",
      "2021-03-18 04:04:11,017 [INFO] Base - [id:995252384] Fetched 4069 reviews (4069 fetched in total)\n",
      "2021-03-18 04:06:09,600 [INFO] Base - [id:995252384] Fetched 4103 reviews (4103 fetched in total)\n",
      "2021-03-18 04:08:08,031 [INFO] Base - [id:995252384] Fetched 4119 reviews (4119 fetched in total)\n",
      "2021-03-18 04:10:06,765 [INFO] Base - [id:995252384] Fetched 4154 reviews (4154 fetched in total)\n",
      "2021-03-18 04:12:05,216 [INFO] Base - [id:995252384] Fetched 4167 reviews (4167 fetched in total)\n",
      "2021-03-18 04:14:03,789 [INFO] Base - [id:995252384] Fetched 4206 reviews (4206 fetched in total)\n",
      "2021-03-18 04:16:02,287 [INFO] Base - [id:995252384] Fetched 4217 reviews (4217 fetched in total)\n",
      "2021-03-18 04:18:00,739 [INFO] Base - [id:995252384] Fetched 4257 reviews (4257 fetched in total)\n",
      "2021-03-18 04:19:59,192 [INFO] Base - [id:995252384] Fetched 4277 reviews (4277 fetched in total)\n",
      "2021-03-18 04:21:57,650 [INFO] Base - [id:995252384] Fetched 4305 reviews (4305 fetched in total)\n",
      "2021-03-18 04:23:56,107 [INFO] Base - [id:995252384] Fetched 4339 reviews (4339 fetched in total)\n",
      "2021-03-18 04:25:54,575 [INFO] Base - [id:995252384] Fetched 4370 reviews (4370 fetched in total)\n",
      "2021-03-18 04:27:53,117 [INFO] Base - [id:995252384] Fetched 4390 reviews (4390 fetched in total)\n",
      "2021-03-18 04:29:51,670 [INFO] Base - [id:995252384] Fetched 4408 reviews (4408 fetched in total)\n"
     ]
    },
    {
     "name": "stderr",
     "output_type": "stream",
     "text": [
      "2021-03-18 04:31:50,156 [INFO] Base - [id:995252384] Fetched 4445 reviews (4445 fetched in total)\n",
      "2021-03-18 04:33:48,673 [INFO] Base - [id:995252384] Fetched 4467 reviews (4467 fetched in total)\n",
      "2021-03-18 04:35:47,092 [INFO] Base - [id:995252384] Fetched 4488 reviews (4488 fetched in total)\n",
      "2021-03-18 04:37:45,591 [INFO] Base - [id:995252384] Fetched 4519 reviews (4519 fetched in total)\n",
      "2021-03-18 04:39:44,143 [INFO] Base - [id:995252384] Fetched 4548 reviews (4548 fetched in total)\n",
      "2021-03-18 04:41:42,675 [INFO] Base - [id:995252384] Fetched 4572 reviews (4572 fetched in total)\n",
      "2021-03-18 04:43:41,153 [INFO] Base - [id:995252384] Fetched 4597 reviews (4597 fetched in total)\n",
      "2021-03-18 04:45:39,635 [INFO] Base - [id:995252384] Fetched 4617 reviews (4617 fetched in total)\n",
      "2021-03-18 04:47:38,154 [INFO] Base - [id:995252384] Fetched 4647 reviews (4647 fetched in total)\n",
      "2021-03-18 04:49:36,620 [INFO] Base - [id:995252384] Fetched 4665 reviews (4665 fetched in total)\n",
      "2021-03-18 04:51:35,145 [INFO] Base - [id:995252384] Fetched 4690 reviews (4690 fetched in total)\n",
      "2021-03-18 04:53:33,572 [INFO] Base - [id:995252384] Fetched 4714 reviews (4714 fetched in total)\n",
      "2021-03-18 04:55:32,098 [INFO] Base - [id:995252384] Fetched 4748 reviews (4748 fetched in total)\n",
      "2021-03-18 04:57:30,801 [INFO] Base - [id:995252384] Fetched 4771 reviews (4771 fetched in total)\n",
      "2021-03-18 04:59:29,260 [INFO] Base - [id:995252384] Fetched 4796 reviews (4796 fetched in total)\n",
      "2021-03-18 05:01:27,732 [INFO] Base - [id:995252384] Fetched 4830 reviews (4830 fetched in total)\n",
      "2021-03-18 05:03:26,546 [INFO] Base - [id:995252384] Fetched 4863 reviews (4863 fetched in total)\n",
      "2021-03-18 05:05:24,998 [INFO] Base - [id:995252384] Fetched 4885 reviews (4885 fetched in total)\n",
      "2021-03-18 05:07:23,452 [INFO] Base - [id:995252384] Fetched 4908 reviews (4908 fetched in total)\n",
      "2021-03-18 05:09:22,028 [INFO] Base - [id:995252384] Fetched 4944 reviews (4944 fetched in total)\n",
      "2021-03-18 05:11:20,487 [INFO] Base - [id:995252384] Fetched 4963 reviews (4963 fetched in total)\n",
      "2021-03-18 05:13:18,945 [INFO] Base - [id:995252384] Fetched 4988 reviews (4988 fetched in total)\n",
      "2021-03-18 05:15:17,339 [INFO] Base - [id:995252384] Fetched 5017 reviews (5017 fetched in total)\n",
      "2021-03-18 05:17:15,811 [INFO] Base - [id:995252384] Fetched 5041 reviews (5041 fetched in total)\n",
      "2021-03-18 05:19:14,526 [INFO] Base - [id:995252384] Fetched 5069 reviews (5069 fetched in total)\n",
      "2021-03-18 05:21:13,050 [INFO] Base - [id:995252384] Fetched 5097 reviews (5097 fetched in total)\n",
      "2021-03-18 05:23:11,475 [INFO] Base - [id:995252384] Fetched 5118 reviews (5118 fetched in total)\n",
      "2021-03-18 05:25:10,220 [INFO] Base - [id:995252384] Fetched 5143 reviews (5143 fetched in total)\n",
      "2021-03-18 05:27:08,646 [INFO] Base - [id:995252384] Fetched 5177 reviews (5177 fetched in total)\n",
      "2021-03-18 05:29:07,078 [INFO] Base - [id:995252384] Fetched 5199 reviews (5199 fetched in total)\n",
      "2021-03-18 05:31:05,548 [INFO] Base - [id:995252384] Fetched 5228 reviews (5228 fetched in total)\n",
      "2021-03-18 05:33:03,984 [INFO] Base - [id:995252384] Fetched 5249 reviews (5249 fetched in total)\n",
      "2021-03-18 05:35:02,430 [INFO] Base - [id:995252384] Fetched 5274 reviews (5274 fetched in total)\n",
      "2021-03-18 05:37:00,867 [INFO] Base - [id:995252384] Fetched 5301 reviews (5301 fetched in total)\n",
      "2021-03-18 05:38:59,480 [INFO] Base - [id:995252384] Fetched 5330 reviews (5330 fetched in total)\n",
      "2021-03-18 05:40:57,971 [INFO] Base - [id:995252384] Fetched 5358 reviews (5358 fetched in total)\n",
      "2021-03-18 05:42:56,396 [INFO] Base - [id:995252384] Fetched 5378 reviews (5378 fetched in total)\n",
      "2021-03-18 05:44:54,819 [INFO] Base - [id:995252384] Fetched 5405 reviews (5405 fetched in total)\n",
      "2021-03-18 05:46:53,255 [INFO] Base - [id:995252384] Fetched 5427 reviews (5427 fetched in total)\n",
      "2021-03-18 05:48:51,671 [INFO] Base - [id:995252384] Fetched 5451 reviews (5451 fetched in total)\n",
      "2021-03-18 05:50:50,158 [INFO] Base - [id:995252384] Fetched 5470 reviews (5470 fetched in total)\n",
      "2021-03-18 05:52:48,608 [INFO] Base - [id:995252384] Fetched 5498 reviews (5498 fetched in total)\n",
      "2021-03-18 05:54:47,021 [INFO] Base - [id:995252384] Fetched 5526 reviews (5526 fetched in total)\n",
      "2021-03-18 05:56:45,474 [INFO] Base - [id:995252384] Fetched 5553 reviews (5553 fetched in total)\n",
      "2021-03-18 05:58:43,918 [INFO] Base - [id:995252384] Fetched 5580 reviews (5580 fetched in total)\n",
      "2021-03-18 06:00:42,402 [INFO] Base - [id:995252384] Fetched 5606 reviews (5606 fetched in total)\n",
      "2021-03-18 06:02:40,864 [INFO] Base - [id:995252384] Fetched 5638 reviews (5638 fetched in total)\n",
      "2021-03-18 06:04:39,376 [INFO] Base - [id:995252384] Fetched 5664 reviews (5664 fetched in total)\n",
      "2021-03-18 06:06:37,860 [INFO] Base - [id:995252384] Fetched 5694 reviews (5694 fetched in total)\n",
      "2021-03-18 06:08:36,346 [INFO] Base - [id:995252384] Fetched 5723 reviews (5723 fetched in total)\n",
      "2021-03-18 06:10:34,801 [INFO] Base - [id:995252384] Fetched 5727 reviews (5727 fetched in total)\n",
      "2021-03-18 06:12:33,336 [INFO] Base - [id:995252384] Fetched 5727 reviews (5727 fetched in total)\n",
      "2021-03-18 06:14:31,886 [INFO] Base - [id:995252384] Fetched 5727 reviews (5727 fetched in total)\n",
      "2021-03-18 06:16:30,340 [INFO] Base - [id:995252384] Fetched 5727 reviews (5727 fetched in total)\n",
      "2021-03-18 06:18:28,864 [INFO] Base - [id:995252384] Fetched 5727 reviews (5727 fetched in total)\n",
      "2021-03-18 06:20:27,363 [INFO] Base - [id:995252384] Fetched 5727 reviews (5727 fetched in total)\n",
      "2021-03-18 06:22:25,920 [INFO] Base - [id:995252384] Fetched 5727 reviews (5727 fetched in total)\n",
      "2021-03-18 06:24:24,348 [INFO] Base - [id:995252384] Fetched 5727 reviews (5727 fetched in total)\n",
      "2021-03-18 06:26:22,815 [INFO] Base - [id:995252384] Fetched 5727 reviews (5727 fetched in total)\n",
      "2021-03-18 06:28:21,245 [INFO] Base - [id:995252384] Fetched 5727 reviews (5727 fetched in total)\n",
      "2021-03-18 06:30:19,734 [INFO] Base - [id:995252384] Fetched 5727 reviews (5727 fetched in total)\n",
      "2021-03-18 06:32:18,163 [INFO] Base - [id:995252384] Fetched 5727 reviews (5727 fetched in total)\n",
      "2021-03-18 06:34:16,693 [INFO] Base - [id:995252384] Fetched 5754 reviews (5754 fetched in total)\n",
      "2021-03-18 06:36:15,169 [INFO] Base - [id:995252384] Fetched 5783 reviews (5783 fetched in total)\n",
      "2021-03-18 06:38:13,673 [INFO] Base - [id:995252384] Fetched 5823 reviews (5823 fetched in total)\n",
      "2021-03-18 06:40:12,106 [INFO] Base - [id:995252384] Fetched 5840 reviews (5840 fetched in total)\n",
      "2021-03-18 06:42:10,693 [INFO] Base - [id:995252384] Fetched 5841 reviews (5841 fetched in total)\n",
      "2021-03-18 06:42:10,976 [INFO] Base - [id:995252384] Fetched 5851 reviews (5851 fetched in total)\n"
     ]
    },
    {
     "name": "stdout",
     "output_type": "stream",
     "text": [
      "Done scraping betterhelp-online-counseling. Scraped a total of 5851 reviews.\n",
      "\n",
      "Successfully inserted betterhelp-online-counseling reviews into collection at 03/18/21 - 06:42:11 AM.\n",
      "\n",
      "Time elapsed for betterhelp-online-counseling: 7:39:22.391465\n",
      "------------------------------------------------------------\n",
      "------------------------------------------------------------\n",
      "\n",
      "\n",
      "------------------------------------------------------------\n",
      "------------------------------------------------------------\n",
      "***** breathe2relax started at 03/18/21 - 06:42:23 AM\n",
      "\n"
     ]
    },
    {
     "name": "stderr",
     "output_type": "stream",
     "text": [
      "2021-03-18 06:42:24,207 [INFO] Base - Initialised: AppStore('us', 'breathe2relax', 425720246)\n",
      "2021-03-18 06:42:24,209 [INFO] Base - Ready to fetch reviews from: https://apps.apple.com/us/app/breathe2relax/id425720246\n",
      "2021-03-18 06:43:18,482 [INFO] Base - [id:425720246] Fetched 5 reviews (5 fetched in total)\n",
      "2021-03-18 06:45:07,154 [INFO] Base - [id:425720246] Fetched 12 reviews (12 fetched in total)\n",
      "2021-03-18 06:46:55,794 [INFO] Base - [id:425720246] Fetched 12 reviews (12 fetched in total)\n",
      "2021-03-18 06:48:44,283 [INFO] Base - [id:425720246] Fetched 12 reviews (12 fetched in total)\n",
      "2021-03-18 06:50:33,035 [INFO] Base - [id:425720246] Fetched 12 reviews (12 fetched in total)\n",
      "2021-03-18 06:52:21,525 [INFO] Base - [id:425720246] Fetched 12 reviews (12 fetched in total)\n",
      "2021-03-18 06:54:10,050 [INFO] Base - [id:425720246] Fetched 14 reviews (14 fetched in total)\n",
      "2021-03-18 06:54:10,267 [INFO] Base - [id:425720246] Fetched 14 reviews (14 fetched in total)\n"
     ]
    },
    {
     "name": "stdout",
     "output_type": "stream",
     "text": [
      "Done scraping breathe2relax. Scraped a total of 14 reviews.\n",
      "\n",
      "Successfully inserted breathe2relax reviews into collection at 03/18/21 - 06:54:10 AM.\n",
      "\n",
      "Time elapsed for breathe2relax: 0:11:47.101908\n",
      "------------------------------------------------------------\n",
      "------------------------------------------------------------\n",
      "\n",
      "\n"
     ]
    }
   ],
   "source": [
    "## Set up loop to go through first 4 apps\n",
    "for app_name, app_id in zip(app_store_names[:4], app_store_ids[:4]):\n",
    "    \n",
    "    start = dt.datetime.now(tz=get_localzone())\n",
    "    fmt= \"%m/%d/%y - %T %p\"\n",
    "    \n",
    "    print('---'*20)\n",
    "    print('---'*20)    \n",
    "    print(f'***** {app_name} started at {start.strftime(fmt)}')\n",
    "    print()\n",
    "    \n",
    "    app_ = AppStore(country='us', app_name=app_name, app_id=app_id)\n",
    "    \n",
    "    # grab reviews posted since February 28, 2020 and limit to 10,000 reviews\n",
    "    app_.review(how_many=10000,\n",
    "                after=dt.datetime(2020, 2, 28),\n",
    "                sleep=random.randint(45,60))\n",
    "    \n",
    "    reviews = app_.reviews\n",
    "    \n",
    "    # add keys to store information about which app each review is for\n",
    "    for rvw in reviews:\n",
    "        rvw['app_name'] = app_name\n",
    "        rvw['app_id'] = app_id\n",
    "    \n",
    "    \n",
    "    print(f'Done scraping {app_name}. Scraped a total of {app_.reviews_count} reviews.\\n')\n",
    "    \n",
    "    # insert reviews into collection\n",
    "    app_store_rvws.insert_many(reviews)\n",
    "    \n",
    "    end = dt.datetime.now(tz=get_localzone())\n",
    "    \n",
    "    print(f'Successfully inserted {app_name} reviews into collection at {end.strftime(fmt)}.\\n')\n",
    "    print(f'Time elapsed for {app_name}: {end-start}')\n",
    "    print('---'*20)\n",
    "    print('---'*20)\n",
    "    print('\\n')\n",
    "    \n",
    "    time.sleep(random.randint(10,20))"
   ]
  },
  {
   "cell_type": "code",
   "execution_count": 26,
   "id": "initial-granny",
   "metadata": {
    "ExecuteTime": {
     "end_time": "2021-03-18T11:11:15.872555Z",
     "start_time": "2021-03-18T11:11:15.859165Z"
    }
   },
   "outputs": [
    {
     "data": {
      "text/plain": [
       "'calm'"
      ]
     },
     "execution_count": 26,
     "metadata": {},
     "output_type": "execute_result"
    }
   ],
   "source": [
    "app_store_names[4]"
   ]
  },
  {
   "cell_type": "code",
   "execution_count": 27,
   "id": "synthetic-raleigh",
   "metadata": {
    "ExecuteTime": {
     "end_time": "2021-03-18T11:11:25.060402Z",
     "start_time": "2021-03-18T11:11:25.053752Z"
    }
   },
   "outputs": [
    {
     "data": {
      "text/plain": [
       "571800810"
      ]
     },
     "execution_count": 27,
     "metadata": {},
     "output_type": "execute_result"
    }
   ],
   "source": [
    "app_store_ids[4]"
   ]
  },
  {
   "cell_type": "code",
   "execution_count": null,
   "id": "abroad-warren",
   "metadata": {},
   "outputs": [],
   "source": [
    "## Set up loop to go through next app, Calm (over 1.2 mil reviews)\n",
    "for app_name, app_id in zip(app_store_names[4], app_store_ids[4]):\n",
    "    \n",
    "    start = dt.datetime.now(tz=get_localzone())\n",
    "    fmt= \"%m/%d/%y - %T %p\"\n",
    "    \n",
    "    print('---'*20)\n",
    "    print('---'*20)    \n",
    "    print(f'***** {app_name} started at {start.strftime(fmt)}')\n",
    "    print()\n",
    "    \n",
    "    app_ = AppStore(country='us', app_name=app_name, app_id=app_id)\n",
    "    \n",
    "    # grab reviews posted since February 28, 2020 and limit to 10,000 reviews\n",
    "    app_.review(how_many=10000,\n",
    "                after=dt.datetime(2020, 2, 28),\n",
    "                sleep=random.randint(40,60))\n",
    "    \n",
    "    reviews = app_.reviews\n",
    "    \n",
    "    # add keys to store information about which app each review is for\n",
    "    for rvw in reviews:\n",
    "        rvw['app_name'] = app_name\n",
    "        rvw['app_id'] = app_id\n",
    "    \n",
    "    \n",
    "    print(f'Done scraping {app_name}. Scraped a total of {app_.reviews_count} reviews.\\n')\n",
    "    \n",
    "    # insert reviews into collection\n",
    "    app_store_rvws.insert_many(reviews)\n",
    "    \n",
    "    end = dt.datetime.now(tz=get_localzone())\n",
    "    \n",
    "    print(f'Successfully inserted {app_name} reviews into collection at {end.strftime(fmt)}.\\n')\n",
    "    print(f'Time elapsed for {app_name}: {end-start}')\n",
    "    print('---'*20)\n",
    "    print('---'*20)\n",
    "    print('\\n')\n",
    "    \n",
    "    time.sleep(random.randint(10,20))"
   ]
  },
  {
   "cell_type": "code",
   "execution_count": null,
   "id": "light-asset",
   "metadata": {},
   "outputs": [],
   "source": []
  },
  {
   "cell_type": "code",
   "execution_count": null,
   "id": "elder-basketball",
   "metadata": {},
   "outputs": [],
   "source": []
  },
  {
   "cell_type": "code",
   "execution_count": null,
   "id": "attractive-discretion",
   "metadata": {},
   "outputs": [],
   "source": []
  },
  {
   "cell_type": "code",
   "execution_count": null,
   "id": "pretty-maria",
   "metadata": {},
   "outputs": [],
   "source": []
  },
  {
   "cell_type": "code",
   "execution_count": null,
   "id": "competent-stephen",
   "metadata": {},
   "outputs": [],
   "source": []
  },
  {
   "cell_type": "code",
   "execution_count": null,
   "id": "obvious-dealing",
   "metadata": {},
   "outputs": [],
   "source": []
  },
  {
   "cell_type": "code",
   "execution_count": null,
   "id": "negative-algeria",
   "metadata": {},
   "outputs": [],
   "source": []
  },
  {
   "cell_type": "code",
   "execution_count": null,
   "id": "cheap-elizabeth",
   "metadata": {},
   "outputs": [],
   "source": []
  },
  {
   "cell_type": "code",
   "execution_count": null,
   "id": "incredible-future",
   "metadata": {},
   "outputs": [],
   "source": []
  },
  {
   "cell_type": "code",
   "execution_count": null,
   "id": "listed-dimension",
   "metadata": {},
   "outputs": [],
   "source": []
  },
  {
   "cell_type": "code",
   "execution_count": null,
   "id": "close-airline",
   "metadata": {},
   "outputs": [],
   "source": []
  },
  {
   "cell_type": "code",
   "execution_count": null,
   "id": "capable-genre",
   "metadata": {},
   "outputs": [],
   "source": []
  },
  {
   "cell_type": "code",
   "execution_count": null,
   "id": "congressional-contrast",
   "metadata": {},
   "outputs": [],
   "source": []
  },
  {
   "cell_type": "code",
   "execution_count": null,
   "id": "divine-albania",
   "metadata": {},
   "outputs": [],
   "source": []
  },
  {
   "cell_type": "code",
   "execution_count": null,
   "id": "ruled-accreditation",
   "metadata": {},
   "outputs": [],
   "source": []
  },
  {
   "cell_type": "code",
   "execution_count": null,
   "id": "infrared-tolerance",
   "metadata": {},
   "outputs": [],
   "source": []
  },
  {
   "cell_type": "code",
   "execution_count": null,
   "id": "extreme-sample",
   "metadata": {},
   "outputs": [],
   "source": []
  },
  {
   "cell_type": "code",
   "execution_count": null,
   "id": "plain-parts",
   "metadata": {},
   "outputs": [],
   "source": []
  },
  {
   "cell_type": "code",
   "execution_count": null,
   "id": "smooth-estimate",
   "metadata": {},
   "outputs": [],
   "source": []
  },
  {
   "cell_type": "code",
   "execution_count": null,
   "id": "viral-timber",
   "metadata": {},
   "outputs": [],
   "source": []
  },
  {
   "cell_type": "code",
   "execution_count": null,
   "id": "smoking-cinema",
   "metadata": {},
   "outputs": [],
   "source": []
  },
  {
   "cell_type": "code",
   "execution_count": null,
   "id": "peaceful-container",
   "metadata": {},
   "outputs": [],
   "source": []
  },
  {
   "cell_type": "code",
   "execution_count": null,
   "id": "digital-cannon",
   "metadata": {},
   "outputs": [],
   "source": []
  },
  {
   "cell_type": "code",
   "execution_count": null,
   "id": "freelance-notion",
   "metadata": {},
   "outputs": [],
   "source": []
  },
  {
   "cell_type": "code",
   "execution_count": null,
   "id": "preceding-strap",
   "metadata": {},
   "outputs": [],
   "source": []
  },
  {
   "cell_type": "code",
   "execution_count": 9,
   "id": "liable-somalia",
   "metadata": {
    "ExecuteTime": {
     "end_time": "2021-03-17T11:23:19.316777Z",
     "start_time": "2021-03-17T11:23:19.312545Z"
    }
   },
   "outputs": [],
   "source": [
    "as_test_collection = mha_proj_db['as_test_collection']"
   ]
  },
  {
   "cell_type": "code",
   "execution_count": 10,
   "id": "extensive-drilling",
   "metadata": {
    "ExecuteTime": {
     "end_time": "2021-03-17T11:23:22.040978Z",
     "start_time": "2021-03-17T11:23:22.037119Z"
    }
   },
   "outputs": [],
   "source": [
    "last_2_info = [('wysa-mental-health-support', 1166585565),\n",
    "                ('youper', 1060691513)]"
   ]
  },
  {
   "cell_type": "code",
   "execution_count": 11,
   "id": "qualified-image",
   "metadata": {
    "ExecuteTime": {
     "end_time": "2021-03-17T11:23:26.138776Z",
     "start_time": "2021-03-17T11:23:26.134979Z"
    }
   },
   "outputs": [],
   "source": [
    "# client.close()"
   ]
  },
  {
   "cell_type": "code",
   "execution_count": 12,
   "id": "detected-store",
   "metadata": {
    "ExecuteTime": {
     "end_time": "2021-03-17T17:09:44.855671Z",
     "start_time": "2021-03-17T11:23:50.395301Z"
    }
   },
   "outputs": [
    {
     "name": "stdout",
     "output_type": "stream",
     "text": [
      "------------------------------------------------------------\n",
      "------------------------------------------------------------\n",
      "***** wysa-mental-health-support started at 03/17/21 - 07:23:50 AM\n",
      "\n"
     ]
    },
    {
     "name": "stderr",
     "output_type": "stream",
     "text": [
      "2021-03-17 07:23:51,671 [INFO] Base - Initialised: AppStore('us', 'wysa-mental-health-support', 1166585565)\n",
      "2021-03-17 07:23:51,672 [INFO] Base - Ready to fetch reviews from: https://apps.apple.com/us/app/wysa-mental-health-support/id1166585565\n",
      "2021-03-17 07:25:47,893 [INFO] Base - [id:1166585565] Fetched 12 reviews (12 fetched in total)\n",
      "2021-03-17 07:29:40,385 [INFO] Base - [id:1166585565] Fetched 38 reviews (38 fetched in total)\n",
      "2021-03-17 07:33:32,879 [INFO] Base - [id:1166585565] Fetched 70 reviews (70 fetched in total)\n",
      "2021-03-17 07:37:25,432 [INFO] Base - [id:1166585565] Fetched 101 reviews (101 fetched in total)\n",
      "2021-03-17 07:41:17,951 [INFO] Base - [id:1166585565] Fetched 131 reviews (131 fetched in total)\n",
      "2021-03-17 07:45:10,336 [INFO] Base - [id:1166585565] Fetched 163 reviews (163 fetched in total)\n",
      "2021-03-17 07:49:02,826 [INFO] Base - [id:1166585565] Fetched 190 reviews (190 fetched in total)\n",
      "2021-03-17 07:52:55,431 [INFO] Base - [id:1166585565] Fetched 223 reviews (223 fetched in total)\n",
      "2021-03-17 07:56:47,914 [INFO] Base - [id:1166585565] Fetched 253 reviews (253 fetched in total)\n",
      "2021-03-17 08:00:40,316 [INFO] Base - [id:1166585565] Fetched 286 reviews (286 fetched in total)\n",
      "2021-03-17 08:04:32,790 [INFO] Base - [id:1166585565] Fetched 315 reviews (315 fetched in total)\n",
      "2021-03-17 08:08:25,356 [INFO] Base - [id:1166585565] Fetched 347 reviews (347 fetched in total)\n",
      "2021-03-17 08:12:17,744 [INFO] Base - [id:1166585565] Fetched 381 reviews (381 fetched in total)\n",
      "2021-03-17 08:16:10,552 [INFO] Base - [id:1166585565] Fetched 414 reviews (414 fetched in total)\n",
      "2021-03-17 08:20:03,210 [INFO] Base - [id:1166585565] Fetched 444 reviews (444 fetched in total)\n",
      "2021-03-17 08:23:55,801 [INFO] Base - [id:1166585565] Fetched 478 reviews (478 fetched in total)\n",
      "2021-03-17 08:27:48,376 [INFO] Base - [id:1166585565] Fetched 510 reviews (510 fetched in total)\n",
      "2021-03-17 08:29:44,789 [INFO] Base - [id:1166585565] Fetched 533 reviews (533 fetched in total)\n"
     ]
    },
    {
     "name": "stdout",
     "output_type": "stream",
     "text": [
      "Done scraping wysa-mental-health-support. Scraped a total of 533 reviews.\n",
      "\n",
      "Successfully inserted wysa-mental-health-support reviews into collection at 03/17/21 - 08:29:44 AM.\n",
      "\n",
      "Time elapsed for wysa-mental-health-support: 1:05:54.483263\n",
      "------------------------------------------------------------\n",
      "------------------------------------------------------------\n",
      "\n",
      "\n",
      "------------------------------------------------------------\n",
      "------------------------------------------------------------\n",
      "***** youper started at 03/17/21 - 08:30:04 AM\n",
      "\n"
     ]
    },
    {
     "name": "stderr",
     "output_type": "stream",
     "text": [
      "2021-03-17 08:30:06,779 [INFO] Base - Initialised: AppStore('us', 'youper', 1060691513)\n",
      "2021-03-17 08:30:06,781 [INFO] Base - Ready to fetch reviews from: https://apps.apple.com/us/app/youper/id1060691513\n",
      "2021-03-17 08:31:42,031 [INFO] Base - [id:1060691513] Fetched 5 reviews (5 fetched in total)\n",
      "2021-03-17 08:34:52,448 [INFO] Base - [id:1060691513] Fetched 19 reviews (19 fetched in total)\n",
      "2021-03-17 08:38:02,856 [INFO] Base - [id:1060691513] Fetched 38 reviews (38 fetched in total)\n",
      "2021-03-17 08:41:13,312 [INFO] Base - [id:1060691513] Fetched 45 reviews (45 fetched in total)\n",
      "2021-03-17 08:44:23,941 [INFO] Base - [id:1060691513] Fetched 54 reviews (54 fetched in total)\n",
      "2021-03-17 08:47:34,411 [INFO] Base - [id:1060691513] Fetched 69 reviews (69 fetched in total)\n",
      "2021-03-17 08:50:44,791 [INFO] Base - [id:1060691513] Fetched 79 reviews (79 fetched in total)\n",
      "2021-03-17 08:53:55,520 [INFO] Base - [id:1060691513] Fetched 91 reviews (91 fetched in total)\n",
      "2021-03-17 08:57:05,929 [INFO] Base - [id:1060691513] Fetched 108 reviews (108 fetched in total)\n",
      "2021-03-17 09:00:16,354 [INFO] Base - [id:1060691513] Fetched 124 reviews (124 fetched in total)\n",
      "2021-03-17 09:03:26,878 [INFO] Base - [id:1060691513] Fetched 133 reviews (133 fetched in total)\n",
      "2021-03-17 09:06:37,314 [INFO] Base - [id:1060691513] Fetched 149 reviews (149 fetched in total)\n",
      "2021-03-17 09:09:47,810 [INFO] Base - [id:1060691513] Fetched 160 reviews (160 fetched in total)\n",
      "2021-03-17 09:12:58,273 [INFO] Base - [id:1060691513] Fetched 169 reviews (169 fetched in total)\n",
      "2021-03-17 09:16:08,713 [INFO] Base - [id:1060691513] Fetched 187 reviews (187 fetched in total)\n",
      "2021-03-17 09:19:19,304 [INFO] Base - [id:1060691513] Fetched 199 reviews (199 fetched in total)\n",
      "2021-03-17 09:22:29,830 [INFO] Base - [id:1060691513] Fetched 208 reviews (208 fetched in total)\n",
      "2021-03-17 09:25:40,298 [INFO] Base - [id:1060691513] Fetched 221 reviews (221 fetched in total)\n",
      "2021-03-17 09:28:50,782 [INFO] Base - [id:1060691513] Fetched 239 reviews (239 fetched in total)\n",
      "2021-03-17 09:32:01,183 [INFO] Base - [id:1060691513] Fetched 257 reviews (257 fetched in total)\n",
      "2021-03-17 09:35:11,702 [INFO] Base - [id:1060691513] Fetched 264 reviews (264 fetched in total)\n",
      "2021-03-17 09:38:23,913 [INFO] Base - [id:1060691513] Fetched 281 reviews (281 fetched in total)\n",
      "2021-03-17 09:41:35,135 [INFO] Base - [id:1060691513] Fetched 292 reviews (292 fetched in total)\n",
      "2021-03-17 09:44:45,634 [INFO] Base - [id:1060691513] Fetched 300 reviews (300 fetched in total)\n",
      "2021-03-17 09:47:56,080 [INFO] Base - [id:1060691513] Fetched 313 reviews (313 fetched in total)\n",
      "2021-03-17 09:51:06,517 [INFO] Base - [id:1060691513] Fetched 326 reviews (326 fetched in total)\n",
      "2021-03-17 09:54:17,064 [INFO] Base - [id:1060691513] Fetched 341 reviews (341 fetched in total)\n",
      "2021-03-17 09:57:27,511 [INFO] Base - [id:1060691513] Fetched 353 reviews (353 fetched in total)\n",
      "2021-03-17 10:00:37,915 [INFO] Base - [id:1060691513] Fetched 369 reviews (369 fetched in total)\n",
      "2021-03-17 10:03:48,503 [INFO] Base - [id:1060691513] Fetched 380 reviews (380 fetched in total)\n",
      "2021-03-17 10:06:59,058 [INFO] Base - [id:1060691513] Fetched 397 reviews (397 fetched in total)\n",
      "2021-03-17 10:10:09,580 [INFO] Base - [id:1060691513] Fetched 412 reviews (412 fetched in total)\n",
      "2021-03-17 10:13:20,236 [INFO] Base - [id:1060691513] Fetched 420 reviews (420 fetched in total)\n",
      "2021-03-17 10:16:30,661 [INFO] Base - [id:1060691513] Fetched 437 reviews (437 fetched in total)\n",
      "2021-03-17 10:19:41,166 [INFO] Base - [id:1060691513] Fetched 446 reviews (446 fetched in total)\n",
      "2021-03-17 10:22:51,751 [INFO] Base - [id:1060691513] Fetched 456 reviews (456 fetched in total)\n",
      "2021-03-17 10:26:02,291 [INFO] Base - [id:1060691513] Fetched 474 reviews (474 fetched in total)\n",
      "2021-03-17 10:29:12,749 [INFO] Base - [id:1060691513] Fetched 487 reviews (487 fetched in total)\n",
      "2021-03-17 10:32:23,311 [INFO] Base - [id:1060691513] Fetched 498 reviews (498 fetched in total)\n",
      "2021-03-17 10:35:33,822 [INFO] Base - [id:1060691513] Fetched 512 reviews (512 fetched in total)\n",
      "2021-03-17 10:38:44,409 [INFO] Base - [id:1060691513] Fetched 523 reviews (523 fetched in total)\n",
      "2021-03-17 10:41:54,819 [INFO] Base - [id:1060691513] Fetched 532 reviews (532 fetched in total)\n",
      "2021-03-17 10:45:05,383 [INFO] Base - [id:1060691513] Fetched 542 reviews (542 fetched in total)\n",
      "2021-03-17 10:48:15,959 [INFO] Base - [id:1060691513] Fetched 556 reviews (556 fetched in total)\n",
      "2021-03-17 10:51:26,397 [INFO] Base - [id:1060691513] Fetched 568 reviews (568 fetched in total)\n",
      "2021-03-17 10:54:36,880 [INFO] Base - [id:1060691513] Fetched 584 reviews (584 fetched in total)\n",
      "2021-03-17 10:57:47,348 [INFO] Base - [id:1060691513] Fetched 601 reviews (601 fetched in total)\n",
      "2021-03-17 11:00:57,804 [INFO] Base - [id:1060691513] Fetched 616 reviews (616 fetched in total)\n",
      "2021-03-17 11:04:08,284 [INFO] Base - [id:1060691513] Fetched 634 reviews (634 fetched in total)\n",
      "2021-03-17 11:07:18,824 [INFO] Base - [id:1060691513] Fetched 653 reviews (653 fetched in total)\n",
      "2021-03-17 11:10:29,396 [INFO] Base - [id:1060691513] Fetched 664 reviews (664 fetched in total)\n",
      "2021-03-17 11:13:39,852 [INFO] Base - [id:1060691513] Fetched 683 reviews (683 fetched in total)\n",
      "2021-03-17 11:16:50,296 [INFO] Base - [id:1060691513] Fetched 695 reviews (695 fetched in total)\n",
      "2021-03-17 11:20:00,771 [INFO] Base - [id:1060691513] Fetched 709 reviews (709 fetched in total)\n",
      "2021-03-17 11:23:11,335 [INFO] Base - [id:1060691513] Fetched 723 reviews (723 fetched in total)\n",
      "2021-03-17 11:26:21,820 [INFO] Base - [id:1060691513] Fetched 731 reviews (731 fetched in total)\n",
      "2021-03-17 11:29:32,548 [INFO] Base - [id:1060691513] Fetched 748 reviews (748 fetched in total)\n",
      "2021-03-17 11:32:43,104 [INFO] Base - [id:1060691513] Fetched 758 reviews (758 fetched in total)\n",
      "2021-03-17 11:35:53,725 [INFO] Base - [id:1060691513] Fetched 771 reviews (771 fetched in total)\n",
      "2021-03-17 11:39:04,273 [INFO] Base - [id:1060691513] Fetched 787 reviews (787 fetched in total)\n",
      "2021-03-17 11:42:14,740 [INFO] Base - [id:1060691513] Fetched 798 reviews (798 fetched in total)\n",
      "2021-03-17 11:45:25,367 [INFO] Base - [id:1060691513] Fetched 816 reviews (816 fetched in total)\n",
      "2021-03-17 11:48:35,794 [INFO] Base - [id:1060691513] Fetched 829 reviews (829 fetched in total)\n",
      "2021-03-17 11:51:46,287 [INFO] Base - [id:1060691513] Fetched 847 reviews (847 fetched in total)\n",
      "2021-03-17 11:54:56,786 [INFO] Base - [id:1060691513] Fetched 862 reviews (862 fetched in total)\n",
      "2021-03-17 11:58:07,267 [INFO] Base - [id:1060691513] Fetched 876 reviews (876 fetched in total)\n",
      "2021-03-17 12:01:17,678 [INFO] Base - [id:1060691513] Fetched 898 reviews (898 fetched in total)\n",
      "2021-03-17 12:04:28,165 [INFO] Base - [id:1060691513] Fetched 909 reviews (909 fetched in total)\n",
      "2021-03-17 12:07:38,645 [INFO] Base - [id:1060691513] Fetched 922 reviews (922 fetched in total)\n",
      "2021-03-17 12:10:48,981 [INFO] Base - [id:1060691513] Fetched 940 reviews (940 fetched in total)\n",
      "2021-03-17 12:13:59,479 [INFO] Base - [id:1060691513] Fetched 953 reviews (953 fetched in total)\n",
      "2021-03-17 12:17:10,030 [INFO] Base - [id:1060691513] Fetched 970 reviews (970 fetched in total)\n",
      "2021-03-17 12:20:20,461 [INFO] Base - [id:1060691513] Fetched 988 reviews (988 fetched in total)\n",
      "2021-03-17 12:23:30,963 [INFO] Base - [id:1060691513] Fetched 994 reviews (994 fetched in total)\n",
      "2021-03-17 12:26:41,415 [INFO] Base - [id:1060691513] Fetched 1005 reviews (1005 fetched in total)\n",
      "2021-03-17 12:29:51,824 [INFO] Base - [id:1060691513] Fetched 1018 reviews (1018 fetched in total)\n",
      "2021-03-17 12:33:02,725 [INFO] Base - [id:1060691513] Fetched 1031 reviews (1031 fetched in total)\n",
      "2021-03-17 12:36:13,225 [INFO] Base - [id:1060691513] Fetched 1052 reviews (1052 fetched in total)\n",
      "2021-03-17 12:39:23,693 [INFO] Base - [id:1060691513] Fetched 1075 reviews (1075 fetched in total)\n",
      "2021-03-17 12:42:34,153 [INFO] Base - [id:1060691513] Fetched 1085 reviews (1085 fetched in total)\n",
      "2021-03-17 12:45:44,636 [INFO] Base - [id:1060691513] Fetched 1101 reviews (1101 fetched in total)\n",
      "2021-03-17 12:48:55,223 [INFO] Base - [id:1060691513] Fetched 1118 reviews (1118 fetched in total)\n",
      "2021-03-17 12:52:05,720 [INFO] Base - [id:1060691513] Fetched 1131 reviews (1131 fetched in total)\n"
     ]
    },
    {
     "name": "stderr",
     "output_type": "stream",
     "text": [
      "2021-03-17 12:55:16,243 [INFO] Base - [id:1060691513] Fetched 1150 reviews (1150 fetched in total)\n",
      "2021-03-17 12:58:26,719 [INFO] Base - [id:1060691513] Fetched 1171 reviews (1171 fetched in total)\n",
      "2021-03-17 13:01:37,184 [INFO] Base - [id:1060691513] Fetched 1177 reviews (1177 fetched in total)\n",
      "2021-03-17 13:04:47,623 [INFO] Base - [id:1060691513] Fetched 1178 reviews (1178 fetched in total)\n",
      "2021-03-17 13:07:58,086 [INFO] Base - [id:1060691513] Fetched 1198 reviews (1198 fetched in total)\n",
      "2021-03-17 13:09:33,591 [INFO] Base - [id:1060691513] Fetched 1198 reviews (1198 fetched in total)\n"
     ]
    },
    {
     "name": "stdout",
     "output_type": "stream",
     "text": [
      "Done scraping youper. Scraped a total of 1198 reviews.\n",
      "\n",
      "Successfully inserted youper reviews into collection at 03/17/21 - 13:09:33 PM.\n",
      "\n",
      "Time elapsed for youper: 4:39:28.895940\n",
      "------------------------------------------------------------\n",
      "------------------------------------------------------------\n",
      "\n",
      "\n"
     ]
    }
   ],
   "source": [
    "## Set up loop to go through each app in the App Store\n",
    "for app_name, app_id in last_2_info:\n",
    "    \n",
    "    start = dt.datetime.now(tz=get_localzone())\n",
    "    fmt= \"%m/%d/%y - %T %p\"\n",
    "    \n",
    "    print('---'*20)\n",
    "    print('---'*20)    \n",
    "    print(f'***** {app_name} started at {start.strftime(fmt)}')\n",
    "    print()\n",
    "    \n",
    "    app_ = AppStore(country='us', app_name=app_name, app_id=app_id)\n",
    "    \n",
    "    # grab reviews posted since February 28, 2020 and limit to 10,000 reviews\n",
    "    app_.review(how_many=10000,\n",
    "                after=dt.datetime(2020, 2, 28),\n",
    "                sleep=random.randint(90,120))\n",
    "    \n",
    "    reviews = app_.reviews\n",
    "    \n",
    "    # add keys to store information about which app each review is for\n",
    "    for rvw in reviews:\n",
    "        rvw['app_name'] = app_name\n",
    "        rvw['app_id'] = app_id\n",
    "    \n",
    "    \n",
    "    print(f'Done scraping {app_name}. Scraped a total of {app_.reviews_count} reviews.\\n')\n",
    "    \n",
    "    # insert reviews into collection\n",
    "    as_test_collection.insert_many(reviews)\n",
    "    \n",
    "    end = dt.datetime.now(tz=get_localzone())\n",
    "    \n",
    "    print(f'Successfully inserted {app_name} reviews into collection at {end.strftime(fmt)}.\\n')\n",
    "    print(f'Time elapsed for {app_name}: {end-start}')\n",
    "    print('---'*20)\n",
    "    print('---'*20)\n",
    "    print('\\n')\n",
    "    \n",
    "    time.sleep(random.randint(10,20))"
   ]
  },
  {
   "cell_type": "code",
   "execution_count": 13,
   "id": "hungarian-conversion",
   "metadata": {
    "ExecuteTime": {
     "end_time": "2021-03-17T17:11:05.043134Z",
     "start_time": "2021-03-17T17:11:04.889250Z"
    }
   },
   "outputs": [
    {
     "data": {
      "text/html": [
       "<div>\n",
       "<style scoped>\n",
       "    .dataframe tbody tr th:only-of-type {\n",
       "        vertical-align: middle;\n",
       "    }\n",
       "\n",
       "    .dataframe tbody tr th {\n",
       "        vertical-align: top;\n",
       "    }\n",
       "\n",
       "    .dataframe thead th {\n",
       "        text-align: right;\n",
       "    }\n",
       "</style>\n",
       "<table border=\"1\" class=\"dataframe\">\n",
       "  <thead>\n",
       "    <tr style=\"text-align: right;\">\n",
       "      <th></th>\n",
       "      <th>_id</th>\n",
       "      <th>isEdited</th>\n",
       "      <th>date</th>\n",
       "      <th>review</th>\n",
       "      <th>rating</th>\n",
       "      <th>title</th>\n",
       "      <th>userName</th>\n",
       "      <th>app_name</th>\n",
       "      <th>app_id</th>\n",
       "      <th>developerResponse</th>\n",
       "    </tr>\n",
       "  </thead>\n",
       "  <tbody>\n",
       "    <tr>\n",
       "      <th>0</th>\n",
       "      <td>6051f638f8994aaa040a0779</td>\n",
       "      <td>False</td>\n",
       "      <td>2020-08-06 04:25:44</td>\n",
       "      <td>I’ve gone through a lot of therapy type apps, ...</td>\n",
       "      <td>5</td>\n",
       "      <td>Best app I’ve tried yet!</td>\n",
       "      <td>SamaYumiko465</td>\n",
       "      <td>wysa-mental-health-support</td>\n",
       "      <td>1166585565</td>\n",
       "      <td>NaN</td>\n",
       "    </tr>\n",
       "    <tr>\n",
       "      <th>1</th>\n",
       "      <td>6051f638f8994aaa040a077a</td>\n",
       "      <td>False</td>\n",
       "      <td>2020-06-10 08:08:44</td>\n",
       "      <td>I’ve only been talking to Wysa but it feels li...</td>\n",
       "      <td>5</td>\n",
       "      <td>I love this.</td>\n",
       "      <td>Fkgodksnsnnfkcks</td>\n",
       "      <td>wysa-mental-health-support</td>\n",
       "      <td>1166585565</td>\n",
       "      <td>NaN</td>\n",
       "    </tr>\n",
       "    <tr>\n",
       "      <th>2</th>\n",
       "      <td>6051f638f8994aaa040a077b</td>\n",
       "      <td>False</td>\n",
       "      <td>2020-11-12 08:09:06</td>\n",
       "      <td>I really like this app. I am trying to help my...</td>\n",
       "      <td>4</td>\n",
       "      <td>Very well done app</td>\n",
       "      <td>Luvelae914</td>\n",
       "      <td>wysa-mental-health-support</td>\n",
       "      <td>1166585565</td>\n",
       "      <td>NaN</td>\n",
       "    </tr>\n",
       "    <tr>\n",
       "      <th>3</th>\n",
       "      <td>6051f638f8994aaa040a077c</td>\n",
       "      <td>False</td>\n",
       "      <td>2020-11-21 19:00:57</td>\n",
       "      <td>I don’t normally write reviews, but I really f...</td>\n",
       "      <td>5</td>\n",
       "      <td>Thank you</td>\n",
       "      <td>Kitsune01_</td>\n",
       "      <td>wysa-mental-health-support</td>\n",
       "      <td>1166585565</td>\n",
       "      <td>NaN</td>\n",
       "    </tr>\n",
       "    <tr>\n",
       "      <th>4</th>\n",
       "      <td>6051f638f8994aaa040a077d</td>\n",
       "      <td>False</td>\n",
       "      <td>2020-08-20 01:25:23</td>\n",
       "      <td>I really like Wysa because it offers therapy w...</td>\n",
       "      <td>4</td>\n",
       "      <td>Thank you so much for making this app</td>\n",
       "      <td>coolaidajay</td>\n",
       "      <td>wysa-mental-health-support</td>\n",
       "      <td>1166585565</td>\n",
       "      <td>NaN</td>\n",
       "    </tr>\n",
       "    <tr>\n",
       "      <th>...</th>\n",
       "      <td>...</td>\n",
       "      <td>...</td>\n",
       "      <td>...</td>\n",
       "      <td>...</td>\n",
       "      <td>...</td>\n",
       "      <td>...</td>\n",
       "      <td>...</td>\n",
       "      <td>...</td>\n",
       "      <td>...</td>\n",
       "      <td>...</td>\n",
       "    </tr>\n",
       "    <tr>\n",
       "      <th>1726</th>\n",
       "      <td>605237cdf8994aaa040a0e37</td>\n",
       "      <td>False</td>\n",
       "      <td>2020-03-30 21:18:16</td>\n",
       "      <td>1000/10</td>\n",
       "      <td>5</td>\n",
       "      <td>10/10</td>\n",
       "      <td>yep yep yoo</td>\n",
       "      <td>youper</td>\n",
       "      <td>1060691513</td>\n",
       "      <td>NaN</td>\n",
       "    </tr>\n",
       "    <tr>\n",
       "      <th>1727</th>\n",
       "      <td>605237cdf8994aaa040a0e38</td>\n",
       "      <td>False</td>\n",
       "      <td>2020-03-24 02:03:46</td>\n",
       "      <td>You can tell what kind of a day you are having...</td>\n",
       "      <td>5</td>\n",
       "      <td>First Day</td>\n",
       "      <td>myjding</td>\n",
       "      <td>youper</td>\n",
       "      <td>1060691513</td>\n",
       "      <td>NaN</td>\n",
       "    </tr>\n",
       "    <tr>\n",
       "      <th>1728</th>\n",
       "      <td>605237cdf8994aaa040a0e39</td>\n",
       "      <td>False</td>\n",
       "      <td>2020-03-14 01:16:42</td>\n",
       "      <td>I’m typically loaded with piss and vinegar but...</td>\n",
       "      <td>5</td>\n",
       "      <td>Great app</td>\n",
       "      <td>fatboy8you</td>\n",
       "      <td>youper</td>\n",
       "      <td>1060691513</td>\n",
       "      <td>NaN</td>\n",
       "    </tr>\n",
       "    <tr>\n",
       "      <th>1729</th>\n",
       "      <td>605237cdf8994aaa040a0e3a</td>\n",
       "      <td>False</td>\n",
       "      <td>2020-03-07 00:50:10</td>\n",
       "      <td>Hi, I’ve been struggling with my BPD, depressi...</td>\n",
       "      <td>5</td>\n",
       "      <td>Where the F*CK has this been all my life?</td>\n",
       "      <td>justalilkat</td>\n",
       "      <td>youper</td>\n",
       "      <td>1060691513</td>\n",
       "      <td>{'id': 13948493, 'body': 'Thanks for your feed...</td>\n",
       "    </tr>\n",
       "    <tr>\n",
       "      <th>1730</th>\n",
       "      <td>605237cdf8994aaa040a0e3b</td>\n",
       "      <td>False</td>\n",
       "      <td>2020-03-13 02:47:24</td>\n",
       "      <td>I would love to get premium so I can utilize t...</td>\n",
       "      <td>2</td>\n",
       "      <td>More Payment Options</td>\n",
       "      <td>ShayMagnifique</td>\n",
       "      <td>youper</td>\n",
       "      <td>1060691513</td>\n",
       "      <td>{'id': 14033223, 'body': 'Thank you for your s...</td>\n",
       "    </tr>\n",
       "  </tbody>\n",
       "</table>\n",
       "<p>1731 rows × 10 columns</p>\n",
       "</div>"
      ],
      "text/plain": [
       "                           _id  isEdited                date  \\\n",
       "0     6051f638f8994aaa040a0779     False 2020-08-06 04:25:44   \n",
       "1     6051f638f8994aaa040a077a     False 2020-06-10 08:08:44   \n",
       "2     6051f638f8994aaa040a077b     False 2020-11-12 08:09:06   \n",
       "3     6051f638f8994aaa040a077c     False 2020-11-21 19:00:57   \n",
       "4     6051f638f8994aaa040a077d     False 2020-08-20 01:25:23   \n",
       "...                        ...       ...                 ...   \n",
       "1726  605237cdf8994aaa040a0e37     False 2020-03-30 21:18:16   \n",
       "1727  605237cdf8994aaa040a0e38     False 2020-03-24 02:03:46   \n",
       "1728  605237cdf8994aaa040a0e39     False 2020-03-14 01:16:42   \n",
       "1729  605237cdf8994aaa040a0e3a     False 2020-03-07 00:50:10   \n",
       "1730  605237cdf8994aaa040a0e3b     False 2020-03-13 02:47:24   \n",
       "\n",
       "                                                 review  rating  \\\n",
       "0     I’ve gone through a lot of therapy type apps, ...       5   \n",
       "1     I’ve only been talking to Wysa but it feels li...       5   \n",
       "2     I really like this app. I am trying to help my...       4   \n",
       "3     I don’t normally write reviews, but I really f...       5   \n",
       "4     I really like Wysa because it offers therapy w...       4   \n",
       "...                                                 ...     ...   \n",
       "1726                                            1000/10       5   \n",
       "1727  You can tell what kind of a day you are having...       5   \n",
       "1728  I’m typically loaded with piss and vinegar but...       5   \n",
       "1729  Hi, I’ve been struggling with my BPD, depressi...       5   \n",
       "1730  I would love to get premium so I can utilize t...       2   \n",
       "\n",
       "                                          title          userName  \\\n",
       "0                      Best app I’ve tried yet!     SamaYumiko465   \n",
       "1                                  I love this.  Fkgodksnsnnfkcks   \n",
       "2                            Very well done app        Luvelae914   \n",
       "3                                     Thank you        Kitsune01_   \n",
       "4         Thank you so much for making this app       coolaidajay   \n",
       "...                                         ...               ...   \n",
       "1726                                      10/10       yep yep yoo   \n",
       "1727                                  First Day           myjding   \n",
       "1728                                  Great app        fatboy8you   \n",
       "1729  Where the F*CK has this been all my life?       justalilkat   \n",
       "1730                       More Payment Options    ShayMagnifique   \n",
       "\n",
       "                        app_name      app_id  \\\n",
       "0     wysa-mental-health-support  1166585565   \n",
       "1     wysa-mental-health-support  1166585565   \n",
       "2     wysa-mental-health-support  1166585565   \n",
       "3     wysa-mental-health-support  1166585565   \n",
       "4     wysa-mental-health-support  1166585565   \n",
       "...                          ...         ...   \n",
       "1726                      youper  1060691513   \n",
       "1727                      youper  1060691513   \n",
       "1728                      youper  1060691513   \n",
       "1729                      youper  1060691513   \n",
       "1730                      youper  1060691513   \n",
       "\n",
       "                                      developerResponse  \n",
       "0                                                   NaN  \n",
       "1                                                   NaN  \n",
       "2                                                   NaN  \n",
       "3                                                   NaN  \n",
       "4                                                   NaN  \n",
       "...                                                 ...  \n",
       "1726                                                NaN  \n",
       "1727                                                NaN  \n",
       "1728                                                NaN  \n",
       "1729  {'id': 13948493, 'body': 'Thanks for your feed...  \n",
       "1730  {'id': 14033223, 'body': 'Thank you for your s...  \n",
       "\n",
       "[1731 rows x 10 columns]"
      ]
     },
     "execution_count": 13,
     "metadata": {},
     "output_type": "execute_result"
    }
   ],
   "source": [
    "test_df = pd.DataFrame(list(as_test_collection.find({})))\n",
    "test_df"
   ]
  },
  {
   "cell_type": "code",
   "execution_count": null,
   "id": "charitable-lender",
   "metadata": {},
   "outputs": [],
   "source": []
  },
  {
   "cell_type": "code",
   "execution_count": null,
   "id": "hollywood-turning",
   "metadata": {},
   "outputs": [],
   "source": []
  },
  {
   "cell_type": "code",
   "execution_count": null,
   "id": "small-flower",
   "metadata": {},
   "outputs": [],
   "source": []
  },
  {
   "cell_type": "code",
   "execution_count": 14,
   "id": "mineral-treatment",
   "metadata": {
    "ExecuteTime": {
     "end_time": "2021-03-17T17:11:42.041303Z",
     "start_time": "2021-03-17T17:11:42.031805Z"
    }
   },
   "outputs": [],
   "source": [
    "as_test_collection_2 = mha_proj_db['as_test_collection_2']"
   ]
  },
  {
   "cell_type": "code",
   "execution_count": 15,
   "id": "accredited-trash",
   "metadata": {
    "ExecuteTime": {
     "end_time": "2021-03-17T17:13:07.837205Z",
     "start_time": "2021-03-17T17:13:07.833461Z"
    }
   },
   "outputs": [],
   "source": [
    "secondlast_2_info = [('woebot-your-self-care-expert', 1305375832),\n",
    "                     ('worry-watch-the-habit-tracker', 693833917)]"
   ]
  },
  {
   "cell_type": "code",
   "execution_count": 16,
   "id": "employed-ordinary",
   "metadata": {
    "ExecuteTime": {
     "end_time": "2021-03-17T20:11:42.378284Z",
     "start_time": "2021-03-17T17:14:15.001447Z"
    }
   },
   "outputs": [
    {
     "name": "stdout",
     "output_type": "stream",
     "text": [
      "------------------------------------------------------------\n",
      "------------------------------------------------------------\n",
      "***** woebot-your-self-care-expert started at 03/17/21 - 13:14:15 PM\n",
      "\n"
     ]
    },
    {
     "name": "stderr",
     "output_type": "stream",
     "text": [
      "2021-03-17 13:14:15,996 [INFO] Base - Initialised: AppStore('us', 'woebot-your-self-care-expert', 1305375832)\n",
      "2021-03-17 13:14:15,997 [INFO] Base - Ready to fetch reviews from: https://apps.apple.com/us/app/woebot-your-self-care-expert/id1305375832\n",
      "2021-03-17 13:15:42,181 [INFO] Base - [id:1305375832] Fetched 11 reviews (11 fetched in total)\n",
      "2021-03-17 13:18:34,674 [INFO] Base - [id:1305375832] Fetched 32 reviews (32 fetched in total)\n",
      "2021-03-17 13:21:27,130 [INFO] Base - [id:1305375832] Fetched 51 reviews (51 fetched in total)\n",
      "2021-03-17 13:24:19,656 [INFO] Base - [id:1305375832] Fetched 74 reviews (74 fetched in total)\n",
      "2021-03-17 13:27:12,249 [INFO] Base - [id:1305375832] Fetched 93 reviews (93 fetched in total)\n",
      "2021-03-17 13:30:04,630 [INFO] Base - [id:1305375832] Fetched 114 reviews (114 fetched in total)\n",
      "2021-03-17 13:32:57,036 [INFO] Base - [id:1305375832] Fetched 138 reviews (138 fetched in total)\n",
      "2021-03-17 13:35:49,561 [INFO] Base - [id:1305375832] Fetched 151 reviews (151 fetched in total)\n",
      "2021-03-17 13:38:42,117 [INFO] Base - [id:1305375832] Fetched 172 reviews (172 fetched in total)\n",
      "2021-03-17 13:41:34,622 [INFO] Base - [id:1305375832] Fetched 193 reviews (193 fetched in total)\n",
      "2021-03-17 13:44:27,181 [INFO] Base - [id:1305375832] Fetched 214 reviews (214 fetched in total)\n",
      "2021-03-17 13:47:19,655 [INFO] Base - [id:1305375832] Fetched 228 reviews (228 fetched in total)\n",
      "2021-03-17 13:50:12,167 [INFO] Base - [id:1305375832] Fetched 247 reviews (247 fetched in total)\n",
      "2021-03-17 13:53:04,737 [INFO] Base - [id:1305375832] Fetched 268 reviews (268 fetched in total)\n",
      "2021-03-17 13:55:57,249 [INFO] Base - [id:1305375832] Fetched 288 reviews (288 fetched in total)\n",
      "2021-03-17 13:58:49,829 [INFO] Base - [id:1305375832] Fetched 308 reviews (308 fetched in total)\n",
      "2021-03-17 14:01:42,371 [INFO] Base - [id:1305375832] Fetched 323 reviews (323 fetched in total)\n",
      "2021-03-17 14:04:34,858 [INFO] Base - [id:1305375832] Fetched 345 reviews (345 fetched in total)\n",
      "2021-03-17 14:07:27,353 [INFO] Base - [id:1305375832] Fetched 370 reviews (370 fetched in total)\n",
      "2021-03-17 14:10:20,240 [INFO] Base - [id:1305375832] Fetched 391 reviews (391 fetched in total)\n",
      "2021-03-17 14:13:12,784 [INFO] Base - [id:1305375832] Fetched 407 reviews (407 fetched in total)\n",
      "2021-03-17 14:16:05,266 [INFO] Base - [id:1305375832] Fetched 429 reviews (429 fetched in total)\n",
      "2021-03-17 14:18:57,811 [INFO] Base - [id:1305375832] Fetched 445 reviews (445 fetched in total)\n",
      "2021-03-17 14:21:50,283 [INFO] Base - [id:1305375832] Fetched 467 reviews (467 fetched in total)\n",
      "2021-03-17 14:24:42,884 [INFO] Base - [id:1305375832] Fetched 484 reviews (484 fetched in total)\n",
      "2021-03-17 14:27:35,309 [INFO] Base - [id:1305375832] Fetched 506 reviews (506 fetched in total)\n",
      "2021-03-17 14:30:27,924 [INFO] Base - [id:1305375832] Fetched 528 reviews (528 fetched in total)\n",
      "2021-03-17 14:33:20,959 [INFO] Base - [id:1305375832] Fetched 552 reviews (552 fetched in total)\n",
      "2021-03-17 14:36:13,507 [INFO] Base - [id:1305375832] Fetched 573 reviews (573 fetched in total)\n",
      "2021-03-17 14:39:06,010 [INFO] Base - [id:1305375832] Fetched 595 reviews (595 fetched in total)\n",
      "2021-03-17 14:41:58,553 [INFO] Base - [id:1305375832] Fetched 619 reviews (619 fetched in total)\n",
      "2021-03-17 14:44:51,109 [INFO] Base - [id:1305375832] Fetched 641 reviews (641 fetched in total)\n",
      "2021-03-17 14:47:43,585 [INFO] Base - [id:1305375832] Fetched 662 reviews (662 fetched in total)\n",
      "2021-03-17 14:50:36,177 [INFO] Base - [id:1305375832] Fetched 677 reviews (677 fetched in total)\n",
      "2021-03-17 14:53:28,642 [INFO] Base - [id:1305375832] Fetched 694 reviews (694 fetched in total)\n",
      "2021-03-17 14:56:21,117 [INFO] Base - [id:1305375832] Fetched 711 reviews (711 fetched in total)\n",
      "2021-03-17 14:59:13,640 [INFO] Base - [id:1305375832] Fetched 737 reviews (737 fetched in total)\n",
      "2021-03-17 15:02:06,051 [INFO] Base - [id:1305375832] Fetched 750 reviews (750 fetched in total)\n",
      "2021-03-17 15:04:58,535 [INFO] Base - [id:1305375832] Fetched 775 reviews (775 fetched in total)\n",
      "2021-03-17 15:07:50,985 [INFO] Base - [id:1305375832] Fetched 791 reviews (791 fetched in total)\n",
      "2021-03-17 15:10:43,506 [INFO] Base - [id:1305375832] Fetched 806 reviews (806 fetched in total)\n",
      "2021-03-17 15:13:36,085 [INFO] Base - [id:1305375832] Fetched 829 reviews (829 fetched in total)\n",
      "2021-03-17 15:16:28,729 [INFO] Base - [id:1305375832] Fetched 846 reviews (846 fetched in total)\n",
      "2021-03-17 15:19:21,367 [INFO] Base - [id:1305375832] Fetched 872 reviews (872 fetched in total)\n",
      "2021-03-17 15:22:13,775 [INFO] Base - [id:1305375832] Fetched 892 reviews (892 fetched in total)\n",
      "2021-03-17 15:25:06,252 [INFO] Base - [id:1305375832] Fetched 912 reviews (912 fetched in total)\n",
      "2021-03-17 15:27:58,663 [INFO] Base - [id:1305375832] Fetched 933 reviews (933 fetched in total)\n",
      "2021-03-17 15:30:51,159 [INFO] Base - [id:1305375832] Fetched 951 reviews (951 fetched in total)\n",
      "2021-03-17 15:33:43,682 [INFO] Base - [id:1305375832] Fetched 968 reviews (968 fetched in total)\n",
      "2021-03-17 15:36:36,130 [INFO] Base - [id:1305375832] Fetched 985 reviews (985 fetched in total)\n",
      "2021-03-17 15:39:28,583 [INFO] Base - [id:1305375832] Fetched 1013 reviews (1013 fetched in total)\n",
      "2021-03-17 15:42:21,022 [INFO] Base - [id:1305375832] Fetched 1038 reviews (1038 fetched in total)\n",
      "2021-03-17 15:45:13,430 [INFO] Base - [id:1305375832] Fetched 1058 reviews (1058 fetched in total)\n",
      "2021-03-17 15:48:05,934 [INFO] Base - [id:1305375832] Fetched 1074 reviews (1074 fetched in total)\n",
      "2021-03-17 15:50:58,868 [INFO] Base - [id:1305375832] Fetched 1095 reviews (1095 fetched in total)\n",
      "2021-03-17 15:53:51,363 [INFO] Base - [id:1305375832] Fetched 1115 reviews (1115 fetched in total)\n",
      "2021-03-17 15:56:43,808 [INFO] Base - [id:1305375832] Fetched 1139 reviews (1139 fetched in total)\n",
      "2021-03-17 15:59:36,436 [INFO] Base - [id:1305375832] Fetched 1158 reviews (1158 fetched in total)\n",
      "2021-03-17 16:02:29,282 [INFO] Base - [id:1305375832] Fetched 1176 reviews (1176 fetched in total)\n",
      "2021-03-17 16:05:21,911 [INFO] Base - [id:1305375832] Fetched 1195 reviews (1195 fetched in total)\n",
      "2021-03-17 16:08:14,474 [INFO] Base - [id:1305375832] Fetched 1222 reviews (1222 fetched in total)\n",
      "2021-03-17 16:08:14,671 [INFO] Base - [id:1305375832] Fetched 1222 reviews (1222 fetched in total)\n"
     ]
    },
    {
     "name": "stdout",
     "output_type": "stream",
     "text": [
      "Done scraping woebot-your-self-care-expert. Scraped a total of 1222 reviews.\n",
      "\n",
      "Successfully inserted woebot-your-self-care-expert reviews into collection at 03/17/21 - 16:08:15 PM.\n",
      "\n",
      "Time elapsed for woebot-your-self-care-expert: 2:54:00.047419\n",
      "------------------------------------------------------------\n",
      "------------------------------------------------------------\n",
      "\n",
      "\n",
      "------------------------------------------------------------\n",
      "------------------------------------------------------------\n",
      "***** worry-watch-the-habit-tracker started at 03/17/21 - 16:08:28 PM\n",
      "\n"
     ]
    },
    {
     "name": "stderr",
     "output_type": "stream",
     "text": [
      "2021-03-17 16:08:29,456 [INFO] Base - Initialised: AppStore('us', 'worry-watch-the-habit-tracker', 693833917)\n",
      "2021-03-17 16:08:29,457 [INFO] Base - Ready to fetch reviews from: https://apps.apple.com/us/app/worry-watch-the-habit-tracker/id693833917\n",
      "2021-03-17 16:10:00,590 [INFO] Base - [id:693833917] Fetched 1 reviews (1 fetched in total)\n",
      "2021-03-17 16:11:32,359 [INFO] Base - [id:693833917] Fetched 1 reviews (1 fetched in total)\n"
     ]
    },
    {
     "name": "stdout",
     "output_type": "stream",
     "text": [
      "Done scraping worry-watch-the-habit-tracker. Scraped a total of 1 reviews.\n",
      "\n",
      "Successfully inserted worry-watch-the-habit-tracker reviews into collection at 03/17/21 - 16:11:32 PM.\n",
      "\n",
      "Time elapsed for worry-watch-the-habit-tracker: 0:03:04.302245\n",
      "------------------------------------------------------------\n",
      "------------------------------------------------------------\n",
      "\n",
      "\n"
     ]
    }
   ],
   "source": [
    "## Set up loop to go through each app in the App Store\n",
    "for app_name, app_id in secondlast_2_info:\n",
    "    \n",
    "    start = dt.datetime.now(tz=get_localzone())\n",
    "    fmt= \"%m/%d/%y - %T %p\"\n",
    "    \n",
    "    print('---'*20)\n",
    "    print('---'*20)    \n",
    "    print(f'***** {app_name} started at {start.strftime(fmt)}')\n",
    "    print()\n",
    "    \n",
    "    app_ = AppStore(country='us', app_name=app_name, app_id=app_id)\n",
    "    \n",
    "    # grab reviews posted since February 28, 2020 and limit to 10,000 reviews\n",
    "    app_.review(how_many=10000,\n",
    "                after=dt.datetime(2020, 2, 28),\n",
    "                sleep=random.randint(60,100))\n",
    "    \n",
    "    reviews = app_.reviews\n",
    "    \n",
    "    # add keys to store information about which app each review is for\n",
    "    for rvw in reviews:\n",
    "        rvw['app_name'] = app_name\n",
    "        rvw['app_id'] = app_id\n",
    "    \n",
    "    \n",
    "    print(f'Done scraping {app_name}. Scraped a total of {app_.reviews_count} reviews.\\n')\n",
    "    \n",
    "    # insert reviews into collection\n",
    "    as_test_collection_2.insert_many(reviews)\n",
    "    \n",
    "    end = dt.datetime.now(tz=get_localzone())\n",
    "    \n",
    "    print(f'Successfully inserted {app_name} reviews into collection at {end.strftime(fmt)}.\\n')\n",
    "    print(f'Time elapsed for {app_name}: {end-start}')\n",
    "    print('---'*20)\n",
    "    print('---'*20)\n",
    "    print('\\n')\n",
    "    \n",
    "    time.sleep(random.randint(10,20))"
   ]
  },
  {
   "cell_type": "code",
   "execution_count": 17,
   "id": "assured-arrival",
   "metadata": {
    "ExecuteTime": {
     "end_time": "2021-03-17T20:35:33.494217Z",
     "start_time": "2021-03-17T20:35:33.465454Z"
    }
   },
   "outputs": [],
   "source": [
    "as_test_collection_3 = mha_proj_db['as_test_collection_3']"
   ]
  },
  {
   "cell_type": "code",
   "execution_count": 18,
   "id": "medium-wings",
   "metadata": {
    "ExecuteTime": {
     "end_time": "2021-03-17T20:35:38.540412Z",
     "start_time": "2021-03-17T20:35:38.529741Z"
    }
   },
   "outputs": [],
   "source": [
    "thirdlast_2_info = [('whats-up-a-mental-health-app', 968251160),\n",
    "                     ('wisdo', 1273601356)]"
   ]
  },
  {
   "cell_type": "code",
   "execution_count": 19,
   "id": "healthy-doctor",
   "metadata": {
    "ExecuteTime": {
     "end_time": "2021-03-17T20:53:22.806887Z",
     "start_time": "2021-03-17T20:36:34.581570Z"
    }
   },
   "outputs": [
    {
     "name": "stdout",
     "output_type": "stream",
     "text": [
      "------------------------------------------------------------\n",
      "------------------------------------------------------------\n",
      "***** whats-up-a-mental-health-app started at 03/17/21 - 16:36:34 PM\n",
      "\n"
     ]
    },
    {
     "name": "stderr",
     "output_type": "stream",
     "text": [
      "2021-03-17 16:36:37,966 [INFO] Base - Initialised: AppStore('us', 'whats-up-a-mental-health-app', 968251160)\n",
      "2021-03-17 16:36:37,968 [INFO] Base - Ready to fetch reviews from: https://apps.apple.com/us/app/whats-up-a-mental-health-app/id968251160\n",
      "2021-03-17 16:37:37,167 [INFO] Base - [id:968251160] Fetched 4 reviews (4 fetched in total)\n",
      "2021-03-17 16:39:35,600 [INFO] Base - [id:968251160] Fetched 13 reviews (13 fetched in total)\n",
      "2021-03-17 16:41:34,044 [INFO] Base - [id:968251160] Fetched 16 reviews (16 fetched in total)\n",
      "2021-03-17 16:41:34,733 [INFO] Base - [id:968251160] Fetched 17 reviews (17 fetched in total)\n"
     ]
    },
    {
     "name": "stdout",
     "output_type": "stream",
     "text": [
      "Done scraping whats-up-a-mental-health-app. Scraped a total of 17 reviews.\n",
      "\n",
      "Successfully inserted whats-up-a-mental-health-app reviews into collection at 03/17/21 - 16:41:34 PM.\n",
      "\n",
      "Time elapsed for whats-up-a-mental-health-app: 0:05:00.268152\n",
      "------------------------------------------------------------\n",
      "------------------------------------------------------------\n",
      "\n",
      "\n",
      "------------------------------------------------------------\n",
      "------------------------------------------------------------\n",
      "***** wisdo started at 03/17/21 - 16:41:44 PM\n",
      "\n"
     ]
    },
    {
     "name": "stderr",
     "output_type": "stream",
     "text": [
      "2021-03-17 16:41:46,111 [INFO] Base - Initialised: AppStore('us', 'wisdo', 1273601356)\n",
      "2021-03-17 16:41:46,113 [INFO] Base - Ready to fetch reviews from: https://apps.apple.com/us/app/wisdo/id1273601356\n",
      "2021-03-17 16:42:31,308 [INFO] Base - [id:1273601356] Fetched 2 reviews (2 fetched in total)\n",
      "2021-03-17 16:44:01,741 [INFO] Base - [id:1273601356] Fetched 7 reviews (7 fetched in total)\n",
      "2021-03-17 16:45:32,229 [INFO] Base - [id:1273601356] Fetched 13 reviews (13 fetched in total)\n",
      "2021-03-17 16:47:03,026 [INFO] Base - [id:1273601356] Fetched 16 reviews (16 fetched in total)\n",
      "2021-03-17 16:48:33,723 [INFO] Base - [id:1273601356] Fetched 23 reviews (23 fetched in total)\n",
      "2021-03-17 16:50:05,126 [INFO] Base - [id:1273601356] Fetched 26 reviews (26 fetched in total)\n",
      "2021-03-17 16:51:35,775 [INFO] Base - [id:1273601356] Fetched 29 reviews (29 fetched in total)\n",
      "2021-03-17 16:53:06,603 [INFO] Base - [id:1273601356] Fetched 32 reviews (32 fetched in total)\n",
      "2021-03-17 16:53:06,788 [ERROR] Base - Something went wrong: Expecting value: line 1 column 1 (char 0)\n",
      "2021-03-17 16:53:06,790 [INFO] Base - [id:1273601356] Fetched 32 reviews (32 fetched in total)\n"
     ]
    },
    {
     "name": "stdout",
     "output_type": "stream",
     "text": [
      "Done scraping wisdo. Scraped a total of 32 reviews.\n",
      "\n",
      "Successfully inserted wisdo reviews into collection at 03/17/21 - 16:53:06 PM.\n",
      "\n",
      "Time elapsed for wisdo: 0:11:21.927824\n",
      "------------------------------------------------------------\n",
      "------------------------------------------------------------\n",
      "\n",
      "\n"
     ]
    }
   ],
   "source": [
    "## Set up loop to go through each app in the App Store\n",
    "for app_name, app_id in thirdlast_2_info:\n",
    "    \n",
    "    start = dt.datetime.now(tz=get_localzone())\n",
    "    fmt= \"%m/%d/%y - %T %p\"\n",
    "    \n",
    "    print('---'*20)\n",
    "    print('---'*20)    \n",
    "    print(f'***** {app_name} started at {start.strftime(fmt)}')\n",
    "    print()\n",
    "    \n",
    "    app_ = AppStore(country='us', app_name=app_name, app_id=app_id)\n",
    "    \n",
    "    # grab reviews posted since February 28, 2020 and limit to 10,000 reviews\n",
    "    app_.review(how_many=10000,\n",
    "                after=dt.datetime(2020, 2, 28),\n",
    "                sleep=random.randint(45,80))\n",
    "    \n",
    "    reviews = app_.reviews\n",
    "    \n",
    "    # add keys to store information about which app each review is for\n",
    "    for rvw in reviews:\n",
    "        rvw['app_name'] = app_name\n",
    "        rvw['app_id'] = app_id\n",
    "    \n",
    "    \n",
    "    print(f'Done scraping {app_name}. Scraped a total of {app_.reviews_count} reviews.\\n')\n",
    "    \n",
    "    # insert reviews into collection\n",
    "    as_test_collection_3.insert_many(reviews)\n",
    "    \n",
    "    end = dt.datetime.now(tz=get_localzone())\n",
    "    \n",
    "    print(f'Successfully inserted {app_name} reviews into collection at {end.strftime(fmt)}.\\n')\n",
    "    print(f'Time elapsed for {app_name}: {end-start}')\n",
    "    print('---'*20)\n",
    "    print('---'*20)\n",
    "    print('\\n')\n",
    "    \n",
    "    time.sleep(random.randint(10,20))"
   ]
  },
  {
   "cell_type": "code",
   "execution_count": 20,
   "id": "breeding-apparatus",
   "metadata": {
    "ExecuteTime": {
     "end_time": "2021-03-17T21:28:03.157416Z",
     "start_time": "2021-03-17T21:28:03.151738Z"
    }
   },
   "outputs": [],
   "source": [
    "as_test_collection_4 = mha_proj_db['as_test_collection_4']"
   ]
  },
  {
   "cell_type": "code",
   "execution_count": 21,
   "id": "changing-hacker",
   "metadata": {
    "ExecuteTime": {
     "end_time": "2021-03-17T21:28:03.476382Z",
     "start_time": "2021-03-17T21:28:03.471810Z"
    }
   },
   "outputs": [],
   "source": [
    "fourthlast_2_info = [('the-mighty', 1432324582),\n",
    "                     ('virtual-hope-box', 825099621)]"
   ]
  },
  {
   "cell_type": "code",
   "execution_count": 22,
   "id": "continuous-intranet",
   "metadata": {
    "ExecuteTime": {
     "end_time": "2021-03-17T21:47:45.192887Z",
     "start_time": "2021-03-17T21:28:03.968249Z"
    }
   },
   "outputs": [
    {
     "name": "stdout",
     "output_type": "stream",
     "text": [
      "------------------------------------------------------------\n",
      "------------------------------------------------------------\n",
      "***** the-mighty started at 03/17/21 - 17:28:03 PM\n",
      "\n"
     ]
    },
    {
     "name": "stderr",
     "output_type": "stream",
     "text": [
      "2021-03-17 17:28:05,351 [INFO] Base - Initialised: AppStore('us', 'the-mighty', 1432324582)\n",
      "2021-03-17 17:28:05,352 [INFO] Base - Ready to fetch reviews from: https://apps.apple.com/us/app/the-mighty/id1432324582\n",
      "2021-03-17 17:28:53,556 [INFO] Base - [id:1432324582] Fetched 9 reviews (9 fetched in total)\n",
      "2021-03-17 17:30:29,923 [INFO] Base - [id:1432324582] Fetched 23 reviews (23 fetched in total)\n",
      "2021-03-17 17:32:06,465 [INFO] Base - [id:1432324582] Fetched 45 reviews (45 fetched in total)\n",
      "2021-03-17 17:33:42,858 [INFO] Base - [id:1432324582] Fetched 64 reviews (64 fetched in total)\n",
      "2021-03-17 17:35:19,420 [INFO] Base - [id:1432324582] Fetched 78 reviews (78 fetched in total)\n",
      "2021-03-17 17:36:55,998 [INFO] Base - [id:1432324582] Fetched 98 reviews (98 fetched in total)\n",
      "2021-03-17 17:38:32,332 [INFO] Base - [id:1432324582] Fetched 117 reviews (117 fetched in total)\n",
      "2021-03-17 17:40:08,849 [INFO] Base - [id:1432324582] Fetched 132 reviews (132 fetched in total)\n",
      "2021-03-17 17:40:09,051 [INFO] Base - [id:1432324582] Fetched 138 reviews (138 fetched in total)\n"
     ]
    },
    {
     "name": "stdout",
     "output_type": "stream",
     "text": [
      "Done scraping the-mighty. Scraped a total of 138 reviews.\n",
      "\n",
      "Successfully inserted the-mighty reviews into collection at 03/17/21 - 17:40:09 PM.\n",
      "\n",
      "Time elapsed for the-mighty: 0:12:05.221239\n",
      "------------------------------------------------------------\n",
      "------------------------------------------------------------\n",
      "\n",
      "\n",
      "------------------------------------------------------------\n",
      "------------------------------------------------------------\n",
      "***** virtual-hope-box started at 03/17/21 - 17:40:20 PM\n",
      "\n"
     ]
    },
    {
     "name": "stderr",
     "output_type": "stream",
     "text": [
      "2021-03-17 17:40:21,226 [INFO] Base - Initialised: AppStore('us', 'virtual-hope-box', 825099621)\n",
      "2021-03-17 17:40:21,228 [INFO] Base - Ready to fetch reviews from: https://apps.apple.com/us/app/virtual-hope-box/id825099621\n",
      "2021-03-17 17:41:15,400 [INFO] Base - [id:825099621] Fetched 3 reviews (3 fetched in total)\n",
      "2021-03-17 17:43:03,889 [INFO] Base - [id:825099621] Fetched 7 reviews (7 fetched in total)\n",
      "2021-03-17 17:44:52,340 [INFO] Base - [id:825099621] Fetched 15 reviews (15 fetched in total)\n",
      "2021-03-17 17:46:40,730 [INFO] Base - [id:825099621] Fetched 15 reviews (15 fetched in total)\n",
      "2021-03-17 17:47:35,181 [INFO] Base - [id:825099621] Fetched 16 reviews (16 fetched in total)\n"
     ]
    },
    {
     "name": "stdout",
     "output_type": "stream",
     "text": [
      "Done scraping virtual-hope-box. Scraped a total of 16 reviews.\n",
      "\n",
      "Successfully inserted virtual-hope-box reviews into collection at 03/17/21 - 17:47:35 PM.\n",
      "\n",
      "Time elapsed for virtual-hope-box: 0:07:14.983292\n",
      "------------------------------------------------------------\n",
      "------------------------------------------------------------\n",
      "\n",
      "\n"
     ]
    }
   ],
   "source": [
    "## Set up loop to go through each app in the App Store\n",
    "for app_name, app_id in fourthlast_2_info:\n",
    "    \n",
    "    start = dt.datetime.now(tz=get_localzone())\n",
    "    fmt= \"%m/%d/%y - %T %p\"\n",
    "    \n",
    "    print('---'*20)\n",
    "    print('---'*20)    \n",
    "    print(f'***** {app_name} started at {start.strftime(fmt)}')\n",
    "    print()\n",
    "    \n",
    "    app_ = AppStore(country='us', app_name=app_name, app_id=app_id)\n",
    "    \n",
    "    # grab reviews posted since February 28, 2020 and limit to 10,000 reviews\n",
    "    app_.review(how_many=10000,\n",
    "                after=dt.datetime(2020, 2, 28),\n",
    "                sleep=random.randint(45,60))\n",
    "    \n",
    "    reviews = app_.reviews\n",
    "    \n",
    "    # add keys to store information about which app each review is for\n",
    "    for rvw in reviews:\n",
    "        rvw['app_name'] = app_name\n",
    "        rvw['app_id'] = app_id\n",
    "    \n",
    "    \n",
    "    print(f'Done scraping {app_name}. Scraped a total of {app_.reviews_count} reviews.\\n')\n",
    "    \n",
    "    # insert reviews into collection\n",
    "    as_test_collection_4.insert_many(reviews)\n",
    "    \n",
    "    end = dt.datetime.now(tz=get_localzone())\n",
    "    \n",
    "    print(f'Successfully inserted {app_name} reviews into collection at {end.strftime(fmt)}.\\n')\n",
    "    print(f'Time elapsed for {app_name}: {end-start}')\n",
    "    print('---'*20)\n",
    "    print('---'*20)\n",
    "    print('\\n')\n",
    "    \n",
    "    time.sleep(random.randint(10,20))"
   ]
  },
  {
   "cell_type": "code",
   "execution_count": null,
   "id": "mental-webster",
   "metadata": {},
   "outputs": [],
   "source": []
  }
 ],
 "metadata": {
  "kernelspec": {
   "display_name": "mha_proj_env",
   "language": "python",
   "name": "mha_proj_env"
  },
  "language_info": {
   "codemirror_mode": {
    "name": "ipython",
    "version": 3
   },
   "file_extension": ".py",
   "mimetype": "text/x-python",
   "name": "python",
   "nbconvert_exporter": "python",
   "pygments_lexer": "ipython3",
   "version": "3.7.9"
  },
  "toc": {
   "base_numbering": 1,
   "nav_menu": {},
   "number_sections": true,
   "sideBar": true,
   "skip_h1_title": false,
   "title_cell": "Table of Contents",
   "title_sidebar": "Contents",
   "toc_cell": false,
   "toc_position": {},
   "toc_section_display": true,
   "toc_window_display": true
  }
 },
 "nbformat": 4,
 "nbformat_minor": 5
}
